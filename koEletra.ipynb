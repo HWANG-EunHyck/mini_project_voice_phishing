{
  "cells": [
    {
      "cell_type": "code",
      "execution_count": null,
      "metadata": {
        "colab": {
          "base_uri": "https://localhost:8080/"
        },
        "id": "yWrmJqnovf8S",
        "outputId": "4113cc5d-478a-496e-d84a-3d0e04e53e1e"
      },
      "outputs": [
        {
          "name": "stdout",
          "output_type": "stream",
          "text": [
            "Collecting transformers\n",
            "  Downloading transformers-4.32.0-py3-none-any.whl (7.5 MB)\n",
            "\u001b[2K     \u001b[90m━━━━━━━━━━━━━━━━━━━━━━━━━━━━━━━━━━━━━━━━\u001b[0m \u001b[32m7.5/7.5 MB\u001b[0m \u001b[31m62.8 MB/s\u001b[0m eta \u001b[36m0:00:00\u001b[0m\n",
            "\u001b[?25hRequirement already satisfied: filelock in /usr/local/lib/python3.10/dist-packages (from transformers) (3.12.2)\n",
            "Collecting huggingface-hub<1.0,>=0.15.1 (from transformers)\n",
            "  Downloading huggingface_hub-0.16.4-py3-none-any.whl (268 kB)\n",
            "\u001b[2K     \u001b[90m━━━━━━━━━━━━━━━━━━━━━━━━━━━━━━━━━━━━━━\u001b[0m \u001b[32m268.8/268.8 kB\u001b[0m \u001b[31m31.3 MB/s\u001b[0m eta \u001b[36m0:00:00\u001b[0m\n",
            "\u001b[?25hRequirement already satisfied: numpy>=1.17 in /usr/local/lib/python3.10/dist-packages (from transformers) (1.23.5)\n",
            "Requirement already satisfied: packaging>=20.0 in /usr/local/lib/python3.10/dist-packages (from transformers) (23.1)\n",
            "Requirement already satisfied: pyyaml>=5.1 in /usr/local/lib/python3.10/dist-packages (from transformers) (6.0.1)\n",
            "Requirement already satisfied: regex!=2019.12.17 in /usr/local/lib/python3.10/dist-packages (from transformers) (2023.6.3)\n",
            "Requirement already satisfied: requests in /usr/local/lib/python3.10/dist-packages (from transformers) (2.31.0)\n",
            "Collecting tokenizers!=0.11.3,<0.14,>=0.11.1 (from transformers)\n",
            "  Downloading tokenizers-0.13.3-cp310-cp310-manylinux_2_17_x86_64.manylinux2014_x86_64.whl (7.8 MB)\n",
            "\u001b[2K     \u001b[90m━━━━━━━━━━━━━━━━━━━━━━━━━━━━━━━━━━━━━━━━\u001b[0m \u001b[32m7.8/7.8 MB\u001b[0m \u001b[31m78.0 MB/s\u001b[0m eta \u001b[36m0:00:00\u001b[0m\n",
            "\u001b[?25hCollecting safetensors>=0.3.1 (from transformers)\n",
            "  Downloading safetensors-0.3.3-cp310-cp310-manylinux_2_17_x86_64.manylinux2014_x86_64.whl (1.3 MB)\n",
            "\u001b[2K     \u001b[90m━━━━━━━━━━━━━━━━━━━━━━━━━━━━━━━━━━━━━━━━\u001b[0m \u001b[32m1.3/1.3 MB\u001b[0m \u001b[31m67.5 MB/s\u001b[0m eta \u001b[36m0:00:00\u001b[0m\n",
            "\u001b[?25hRequirement already satisfied: tqdm>=4.27 in /usr/local/lib/python3.10/dist-packages (from transformers) (4.66.1)\n",
            "Requirement already satisfied: fsspec in /usr/local/lib/python3.10/dist-packages (from huggingface-hub<1.0,>=0.15.1->transformers) (2023.6.0)\n",
            "Requirement already satisfied: typing-extensions>=3.7.4.3 in /usr/local/lib/python3.10/dist-packages (from huggingface-hub<1.0,>=0.15.1->transformers) (4.7.1)\n",
            "Requirement already satisfied: charset-normalizer<4,>=2 in /usr/local/lib/python3.10/dist-packages (from requests->transformers) (3.2.0)\n",
            "Requirement already satisfied: idna<4,>=2.5 in /usr/local/lib/python3.10/dist-packages (from requests->transformers) (3.4)\n",
            "Requirement already satisfied: urllib3<3,>=1.21.1 in /usr/local/lib/python3.10/dist-packages (from requests->transformers) (2.0.4)\n",
            "Requirement already satisfied: certifi>=2017.4.17 in /usr/local/lib/python3.10/dist-packages (from requests->transformers) (2023.7.22)\n",
            "Installing collected packages: tokenizers, safetensors, huggingface-hub, transformers\n",
            "Successfully installed huggingface-hub-0.16.4 safetensors-0.3.3 tokenizers-0.13.3 transformers-4.32.0\n"
          ]
        }
      ],
      "source": [
        "# ! pip install transformers"
      ]
    },
    {
      "cell_type": "code",
      "execution_count": null,
      "metadata": {
        "id": "YVMq_Beivr-P"
      },
      "outputs": [],
      "source": [
        "from transformers import ElectraTokenizer, ElectraForSequenceClassification\n",
        "import torch\n",
        "from torch.nn import functional as F\n",
        "import torch.optim as optim\n",
        "from torch.utils.data import TensorDataset,DataLoader,RandomSampler,SequentialSampler\n",
        "from tqdm import tqdm\n",
        "import pandas as pd\n",
        "import numpy as np\n",
        "import random\n",
        "import os\n",
        "from sklearn.metrics import classification_report, confusion_matrix\n",
        "from sklearn.model_selection import train_test_split"
      ]
    },
    {
      "cell_type": "code",
      "execution_count": null,
      "metadata": {
        "id": "5tL97jhxvuM8"
      },
      "outputs": [],
      "source": [
        "device = \"cuda\" if torch.cuda.is_available() else \"cpu\""
      ]
    },
    {
      "cell_type": "code",
      "execution_count": null,
      "metadata": {
        "id": "-Eg_dxpmvwlL"
      },
      "outputs": [],
      "source": [
        "# seed 설정\n",
        "def set_seed(seed):\n",
        "    random.seed(seed)\n",
        "    np.random.seed(seed)\n",
        "    torch.manual_seed(seed)\n",
        "    if torch.cuda.is_available():\n",
        "        torch.cuda.manual_seed(seed)\n",
        "set_seed(42)"
      ]
    },
    {
      "cell_type": "markdown",
      "metadata": {
        "id": "LuD9NxeQHApG"
      },
      "source": [
        "#### 보이스피싱"
      ]
    },
    {
      "cell_type": "markdown",
      "metadata": {},
      "source": [
        "- 일단 대화 데이터\n",
        "- 전자상거래 데이터 "
      ]
    },
    {
      "cell_type": "code",
      "execution_count": null,
      "metadata": {
        "id": "Q106PgIVFw-t"
      },
      "outputs": [],
      "source": [
        "normal_ver1_data = pd.read_csv(\"./data/voice_phishing/normal_text_ver1.csv\")\n",
        "normal_ver2_data = pd.read_csv(\"./data/voice_phishing/normal_text.csv\")\n",
        "phishing_data = pd.read_csv('./data/voice_phishing/phishing_text.csv', encoding='Cp949')"
      ]
    },
    {
      "cell_type": "code",
      "execution_count": null,
      "metadata": {
        "colab": {
          "base_uri": "https://localhost:8080/"
        },
        "id": "CtpMOBx5KacK",
        "outputId": "969e2534-40c7-4d9e-a500-9dab929608fe"
      },
      "outputs": [
        {
          "data": {
            "text/plain": [
              "(73359, 2)"
            ]
          },
          "execution_count": 8,
          "metadata": {},
          "output_type": "execute_result"
        }
      ],
      "source": [
        "normal_ver1_data.shape"
      ]
    },
    {
      "cell_type": "code",
      "execution_count": null,
      "metadata": {
        "colab": {
          "base_uri": "https://localhost:8080/"
        },
        "id": "DM3qAB77ZOzI",
        "outputId": "3e398adc-2708-4a40-af9c-90616fd90c5a"
      },
      "outputs": [
        {
          "data": {
            "text/plain": [
              "(71758, 2)"
            ]
          },
          "execution_count": 9,
          "metadata": {},
          "output_type": "execute_result"
        }
      ],
      "source": [
        "normal_ver2_data.shape"
      ]
    },
    {
      "cell_type": "code",
      "execution_count": null,
      "metadata": {
        "colab": {
          "base_uri": "https://localhost:8080/"
        },
        "id": "7j5Kmfk3Kcad",
        "outputId": "e5a3106d-e945-47fa-9ee5-4c3e3d4dc033"
      },
      "outputs": [
        {
          "data": {
            "text/plain": [
              "(1342, 2)"
            ]
          },
          "execution_count": 10,
          "metadata": {},
          "output_type": "execute_result"
        }
      ],
      "source": [
        "phishing_data.shape"
      ]
    },
    {
      "cell_type": "code",
      "execution_count": null,
      "metadata": {
        "id": "c7S9SK41cl51"
      },
      "outputs": [],
      "source": [
        "# 검증을 위한 샘플데이터 추출\n",
        "sample_data_ver1 = normal_ver1_data.sample(n=1000, replace=False)\n",
        "normal_ver1_data = normal_ver1_data.drop(sample_data_ver1.index)\n",
        "\n",
        "sample_data_ver2 = normal_ver2_data.sample(n=1000, replace=False)\n",
        "normal_ver2_data = normal_ver2_data.drop(sample_data_ver2.index)\n",
        "\n",
        "sample_phishing_data = phishing_data.sample(n=200, replace=False)\n",
        "phishing_data = phishing_data.drop(sample_phishing_data.index)\n",
        "\n",
        "test_data = pd.concat([sample_data_ver1, sample_data_ver2, sample_phishing_data], ignore_index=True)"
      ]
    },
    {
      "cell_type": "code",
      "execution_count": null,
      "metadata": {
        "colab": {
          "base_uri": "https://localhost:8080/"
        },
        "id": "zhhp1JG7daxh",
        "outputId": "9fdd140c-9f3c-44ed-a999-fa15ee98d570"
      },
      "outputs": [
        {
          "data": {
            "text/plain": [
              "(72359, 2)"
            ]
          },
          "execution_count": 12,
          "metadata": {},
          "output_type": "execute_result"
        }
      ],
      "source": [
        "normal_ver1_data.shape"
      ]
    },
    {
      "cell_type": "code",
      "execution_count": null,
      "metadata": {
        "colab": {
          "base_uri": "https://localhost:8080/"
        },
        "id": "3Ipj5RNDdcC8",
        "outputId": "5768dd15-23b0-4b48-ee03-d7b210b0fbda"
      },
      "outputs": [
        {
          "data": {
            "text/plain": [
              "(70758, 2)"
            ]
          },
          "execution_count": 13,
          "metadata": {},
          "output_type": "execute_result"
        }
      ],
      "source": [
        "normal_ver2_data.shape"
      ]
    },
    {
      "cell_type": "code",
      "execution_count": null,
      "metadata": {
        "colab": {
          "base_uri": "https://localhost:8080/"
        },
        "id": "X6njb-0xdead",
        "outputId": "63d0a057-0b13-4af3-93ee-b4618d7b112f"
      },
      "outputs": [
        {
          "data": {
            "text/plain": [
              "(1142, 2)"
            ]
          },
          "execution_count": 14,
          "metadata": {},
          "output_type": "execute_result"
        }
      ],
      "source": [
        "phishing_data.shape"
      ]
    },
    {
      "cell_type": "code",
      "execution_count": null,
      "metadata": {
        "id": "89SK-GCxGVIv"
      },
      "outputs": [],
      "source": [
        "data_ver1 = pd.concat([normal_ver1_data, phishing_data])\n",
        "data_ver2 = pd.concat([normal_ver2_data, phishing_data])\n",
        "data_ver3 = pd.concat([normal_ver1_data, normal_ver2_data, phishing_data])"
      ]
    },
    {
      "cell_type": "code",
      "execution_count": null,
      "metadata": {
        "colab": {
          "base_uri": "https://localhost:8080/",
          "height": 206
        },
        "id": "Btkwmka2Gvgn",
        "outputId": "5964a807-1f35-4c7e-daeb-5500b004cbd4"
      },
      "outputs": [
        {
          "data": {
            "text/html": [
              "\n",
              "  <div id=\"df-9e27467b-a98c-4c16-bc4a-65181cf9308f\" class=\"colab-df-container\">\n",
              "    <div>\n",
              "<style scoped>\n",
              "    .dataframe tbody tr th:only-of-type {\n",
              "        vertical-align: middle;\n",
              "    }\n",
              "\n",
              "    .dataframe tbody tr th {\n",
              "        vertical-align: top;\n",
              "    }\n",
              "\n",
              "    .dataframe thead th {\n",
              "        text-align: right;\n",
              "    }\n",
              "</style>\n",
              "<table border=\"1\" class=\"dataframe\">\n",
              "  <thead>\n",
              "    <tr style=\"text-align: right;\">\n",
              "      <th></th>\n",
              "      <th>text</th>\n",
              "      <th>label</th>\n",
              "    </tr>\n",
              "  </thead>\n",
              "  <tbody>\n",
              "    <tr>\n",
              "      <th>0</th>\n",
              "      <td>안녕하세요 일찍 출근하시네요</td>\n",
              "      <td>0</td>\n",
              "    </tr>\n",
              "    <tr>\n",
              "      <th>1</th>\n",
              "      <td>그래서 아침밥은 포기하고 삼십 분 일찍 출근하기로 했어요</td>\n",
              "      <td>0</td>\n",
              "    </tr>\n",
              "    <tr>\n",
              "      <th>2</th>\n",
              "      <td>아침밥은 회사 앞 편의점에서 해결해도 되니까요</td>\n",
              "      <td>0</td>\n",
              "    </tr>\n",
              "    <tr>\n",
              "      <th>3</th>\n",
              "      <td>애들 학원비를 좀 줄이자고 했더니 아내가 펄펄 뛰더라구요</td>\n",
              "      <td>0</td>\n",
              "    </tr>\n",
              "    <tr>\n",
              "      <th>4</th>\n",
              "      <td>그렇다고 부모님 용돈을 안 드릴 수도 없고 고민이에요</td>\n",
              "      <td>0</td>\n",
              "    </tr>\n",
              "  </tbody>\n",
              "</table>\n",
              "</div>\n",
              "    <div class=\"colab-df-buttons\">\n",
              "\n",
              "  <div class=\"colab-df-container\">\n",
              "    <button class=\"colab-df-convert\" onclick=\"convertToInteractive('df-9e27467b-a98c-4c16-bc4a-65181cf9308f')\"\n",
              "            title=\"Convert this dataframe to an interactive table.\"\n",
              "            style=\"display:none;\">\n",
              "\n",
              "  <svg xmlns=\"http://www.w3.org/2000/svg\" height=\"24px\" viewBox=\"0 -960 960 960\">\n",
              "    <path d=\"M120-120v-720h720v720H120Zm60-500h600v-160H180v160Zm220 220h160v-160H400v160Zm0 220h160v-160H400v160ZM180-400h160v-160H180v160Zm440 0h160v-160H620v160ZM180-180h160v-160H180v160Zm440 0h160v-160H620v160Z\"/>\n",
              "  </svg>\n",
              "    </button>\n",
              "\n",
              "  <style>\n",
              "    .colab-df-container {\n",
              "      display:flex;\n",
              "      gap: 12px;\n",
              "    }\n",
              "\n",
              "    .colab-df-convert {\n",
              "      background-color: #E8F0FE;\n",
              "      border: none;\n",
              "      border-radius: 50%;\n",
              "      cursor: pointer;\n",
              "      display: none;\n",
              "      fill: #1967D2;\n",
              "      height: 32px;\n",
              "      padding: 0 0 0 0;\n",
              "      width: 32px;\n",
              "    }\n",
              "\n",
              "    .colab-df-convert:hover {\n",
              "      background-color: #E2EBFA;\n",
              "      box-shadow: 0px 1px 2px rgba(60, 64, 67, 0.3), 0px 1px 3px 1px rgba(60, 64, 67, 0.15);\n",
              "      fill: #174EA6;\n",
              "    }\n",
              "\n",
              "    .colab-df-buttons div {\n",
              "      margin-bottom: 4px;\n",
              "    }\n",
              "\n",
              "    [theme=dark] .colab-df-convert {\n",
              "      background-color: #3B4455;\n",
              "      fill: #D2E3FC;\n",
              "    }\n",
              "\n",
              "    [theme=dark] .colab-df-convert:hover {\n",
              "      background-color: #434B5C;\n",
              "      box-shadow: 0px 1px 3px 1px rgba(0, 0, 0, 0.15);\n",
              "      filter: drop-shadow(0px 1px 2px rgba(0, 0, 0, 0.3));\n",
              "      fill: #FFFFFF;\n",
              "    }\n",
              "  </style>\n",
              "\n",
              "    <script>\n",
              "      const buttonEl =\n",
              "        document.querySelector('#df-9e27467b-a98c-4c16-bc4a-65181cf9308f button.colab-df-convert');\n",
              "      buttonEl.style.display =\n",
              "        google.colab.kernel.accessAllowed ? 'block' : 'none';\n",
              "\n",
              "      async function convertToInteractive(key) {\n",
              "        const element = document.querySelector('#df-9e27467b-a98c-4c16-bc4a-65181cf9308f');\n",
              "        const dataTable =\n",
              "          await google.colab.kernel.invokeFunction('convertToInteractive',\n",
              "                                                    [key], {});\n",
              "        if (!dataTable) return;\n",
              "\n",
              "        const docLinkHtml = 'Like what you see? Visit the ' +\n",
              "          '<a target=\"_blank\" href=https://colab.research.google.com/notebooks/data_table.ipynb>data table notebook</a>'\n",
              "          + ' to learn more about interactive tables.';\n",
              "        element.innerHTML = '';\n",
              "        dataTable['output_type'] = 'display_data';\n",
              "        await google.colab.output.renderOutput(dataTable, element);\n",
              "        const docLink = document.createElement('div');\n",
              "        docLink.innerHTML = docLinkHtml;\n",
              "        element.appendChild(docLink);\n",
              "      }\n",
              "    </script>\n",
              "  </div>\n",
              "\n",
              "\n",
              "<div id=\"df-75279dc4-f8ef-45f9-ab5c-f8c245f75aae\">\n",
              "  <button class=\"colab-df-quickchart\" onclick=\"quickchart('df-75279dc4-f8ef-45f9-ab5c-f8c245f75aae')\"\n",
              "            title=\"Suggest charts.\"\n",
              "            style=\"display:none;\">\n",
              "\n",
              "<svg xmlns=\"http://www.w3.org/2000/svg\" height=\"24px\"viewBox=\"0 0 24 24\"\n",
              "     width=\"24px\">\n",
              "    <g>\n",
              "        <path d=\"M19 3H5c-1.1 0-2 .9-2 2v14c0 1.1.9 2 2 2h14c1.1 0 2-.9 2-2V5c0-1.1-.9-2-2-2zM9 17H7v-7h2v7zm4 0h-2V7h2v10zm4 0h-2v-4h2v4z\"/>\n",
              "    </g>\n",
              "</svg>\n",
              "  </button>\n",
              "\n",
              "<style>\n",
              "  .colab-df-quickchart {\n",
              "    background-color: #E8F0FE;\n",
              "    border: none;\n",
              "    border-radius: 50%;\n",
              "    cursor: pointer;\n",
              "    display: none;\n",
              "    fill: #1967D2;\n",
              "    height: 32px;\n",
              "    padding: 0 0 0 0;\n",
              "    width: 32px;\n",
              "  }\n",
              "\n",
              "  .colab-df-quickchart:hover {\n",
              "    background-color: #E2EBFA;\n",
              "    box-shadow: 0px 1px 2px rgba(60, 64, 67, 0.3), 0px 1px 3px 1px rgba(60, 64, 67, 0.15);\n",
              "    fill: #174EA6;\n",
              "  }\n",
              "\n",
              "  [theme=dark] .colab-df-quickchart {\n",
              "    background-color: #3B4455;\n",
              "    fill: #D2E3FC;\n",
              "  }\n",
              "\n",
              "  [theme=dark] .colab-df-quickchart:hover {\n",
              "    background-color: #434B5C;\n",
              "    box-shadow: 0px 1px 3px 1px rgba(0, 0, 0, 0.15);\n",
              "    filter: drop-shadow(0px 1px 2px rgba(0, 0, 0, 0.3));\n",
              "    fill: #FFFFFF;\n",
              "  }\n",
              "</style>\n",
              "\n",
              "  <script>\n",
              "    async function quickchart(key) {\n",
              "      const charts = await google.colab.kernel.invokeFunction(\n",
              "          'suggestCharts', [key], {});\n",
              "    }\n",
              "    (() => {\n",
              "      let quickchartButtonEl =\n",
              "        document.querySelector('#df-75279dc4-f8ef-45f9-ab5c-f8c245f75aae button');\n",
              "      quickchartButtonEl.style.display =\n",
              "        google.colab.kernel.accessAllowed ? 'block' : 'none';\n",
              "    })();\n",
              "  </script>\n",
              "</div>\n",
              "    </div>\n",
              "  </div>\n"
            ],
            "text/plain": [
              "                              text  label\n",
              "0                안녕하세요 일찍 출근하시네요        0\n",
              "1  그래서 아침밥은 포기하고 삼십 분 일찍 출근하기로 했어요      0\n",
              "2        아침밥은 회사 앞 편의점에서 해결해도 되니까요      0\n",
              "3  애들 학원비를 좀 줄이자고 했더니 아내가 펄펄 뛰더라구요      0\n",
              "4    그렇다고 부모님 용돈을 안 드릴 수도 없고 고민이에요      0"
            ]
          },
          "execution_count": 16,
          "metadata": {},
          "output_type": "execute_result"
        }
      ],
      "source": [
        "data_ver1.head()"
      ]
    },
    {
      "cell_type": "code",
      "execution_count": null,
      "metadata": {
        "colab": {
          "base_uri": "https://localhost:8080/",
          "height": 206
        },
        "id": "v6GahF87fymP",
        "outputId": "5372f724-c7ac-4355-e4b8-7be299188692"
      },
      "outputs": [
        {
          "data": {
            "text/html": [
              "\n",
              "  <div id=\"df-e76e7746-6b40-42f1-a8de-2cd223657d8a\" class=\"colab-df-container\">\n",
              "    <div>\n",
              "<style scoped>\n",
              "    .dataframe tbody tr th:only-of-type {\n",
              "        vertical-align: middle;\n",
              "    }\n",
              "\n",
              "    .dataframe tbody tr th {\n",
              "        vertical-align: top;\n",
              "    }\n",
              "\n",
              "    .dataframe thead th {\n",
              "        text-align: right;\n",
              "    }\n",
              "</style>\n",
              "<table border=\"1\" class=\"dataframe\">\n",
              "  <thead>\n",
              "    <tr style=\"text-align: right;\">\n",
              "      <th></th>\n",
              "      <th>text</th>\n",
              "      <th>label</th>\n",
              "    </tr>\n",
              "  </thead>\n",
              "  <tbody>\n",
              "    <tr>\n",
              "      <th>0</th>\n",
              "      <td>고객님 주문은 어떤 방식으로 하시는 건가요</td>\n",
              "      <td>0</td>\n",
              "    </tr>\n",
              "    <tr>\n",
              "      <th>1</th>\n",
              "      <td>카드 결제로 가능한가요</td>\n",
              "      <td>0</td>\n",
              "    </tr>\n",
              "    <tr>\n",
              "      <th>2</th>\n",
              "      <td>통화 종료 후 #@전번# 번호로 전화가 가면요</td>\n",
              "      <td>0</td>\n",
              "    </tr>\n",
              "    <tr>\n",
              "      <th>3</th>\n",
              "      <td>카드 정보를 입력하시면 됩니다</td>\n",
              "      <td>0</td>\n",
              "    </tr>\n",
              "    <tr>\n",
              "      <th>4</th>\n",
              "      <td>무이자 할부도 가능한가요</td>\n",
              "      <td>0</td>\n",
              "    </tr>\n",
              "  </tbody>\n",
              "</table>\n",
              "</div>\n",
              "    <div class=\"colab-df-buttons\">\n",
              "\n",
              "  <div class=\"colab-df-container\">\n",
              "    <button class=\"colab-df-convert\" onclick=\"convertToInteractive('df-e76e7746-6b40-42f1-a8de-2cd223657d8a')\"\n",
              "            title=\"Convert this dataframe to an interactive table.\"\n",
              "            style=\"display:none;\">\n",
              "\n",
              "  <svg xmlns=\"http://www.w3.org/2000/svg\" height=\"24px\" viewBox=\"0 -960 960 960\">\n",
              "    <path d=\"M120-120v-720h720v720H120Zm60-500h600v-160H180v160Zm220 220h160v-160H400v160Zm0 220h160v-160H400v160ZM180-400h160v-160H180v160Zm440 0h160v-160H620v160ZM180-180h160v-160H180v160Zm440 0h160v-160H620v160Z\"/>\n",
              "  </svg>\n",
              "    </button>\n",
              "\n",
              "  <style>\n",
              "    .colab-df-container {\n",
              "      display:flex;\n",
              "      gap: 12px;\n",
              "    }\n",
              "\n",
              "    .colab-df-convert {\n",
              "      background-color: #E8F0FE;\n",
              "      border: none;\n",
              "      border-radius: 50%;\n",
              "      cursor: pointer;\n",
              "      display: none;\n",
              "      fill: #1967D2;\n",
              "      height: 32px;\n",
              "      padding: 0 0 0 0;\n",
              "      width: 32px;\n",
              "    }\n",
              "\n",
              "    .colab-df-convert:hover {\n",
              "      background-color: #E2EBFA;\n",
              "      box-shadow: 0px 1px 2px rgba(60, 64, 67, 0.3), 0px 1px 3px 1px rgba(60, 64, 67, 0.15);\n",
              "      fill: #174EA6;\n",
              "    }\n",
              "\n",
              "    .colab-df-buttons div {\n",
              "      margin-bottom: 4px;\n",
              "    }\n",
              "\n",
              "    [theme=dark] .colab-df-convert {\n",
              "      background-color: #3B4455;\n",
              "      fill: #D2E3FC;\n",
              "    }\n",
              "\n",
              "    [theme=dark] .colab-df-convert:hover {\n",
              "      background-color: #434B5C;\n",
              "      box-shadow: 0px 1px 3px 1px rgba(0, 0, 0, 0.15);\n",
              "      filter: drop-shadow(0px 1px 2px rgba(0, 0, 0, 0.3));\n",
              "      fill: #FFFFFF;\n",
              "    }\n",
              "  </style>\n",
              "\n",
              "    <script>\n",
              "      const buttonEl =\n",
              "        document.querySelector('#df-e76e7746-6b40-42f1-a8de-2cd223657d8a button.colab-df-convert');\n",
              "      buttonEl.style.display =\n",
              "        google.colab.kernel.accessAllowed ? 'block' : 'none';\n",
              "\n",
              "      async function convertToInteractive(key) {\n",
              "        const element = document.querySelector('#df-e76e7746-6b40-42f1-a8de-2cd223657d8a');\n",
              "        const dataTable =\n",
              "          await google.colab.kernel.invokeFunction('convertToInteractive',\n",
              "                                                    [key], {});\n",
              "        if (!dataTable) return;\n",
              "\n",
              "        const docLinkHtml = 'Like what you see? Visit the ' +\n",
              "          '<a target=\"_blank\" href=https://colab.research.google.com/notebooks/data_table.ipynb>data table notebook</a>'\n",
              "          + ' to learn more about interactive tables.';\n",
              "        element.innerHTML = '';\n",
              "        dataTable['output_type'] = 'display_data';\n",
              "        await google.colab.output.renderOutput(dataTable, element);\n",
              "        const docLink = document.createElement('div');\n",
              "        docLink.innerHTML = docLinkHtml;\n",
              "        element.appendChild(docLink);\n",
              "      }\n",
              "    </script>\n",
              "  </div>\n",
              "\n",
              "\n",
              "<div id=\"df-a84a40e4-4f34-4fbb-9344-2f5a9a4a5c40\">\n",
              "  <button class=\"colab-df-quickchart\" onclick=\"quickchart('df-a84a40e4-4f34-4fbb-9344-2f5a9a4a5c40')\"\n",
              "            title=\"Suggest charts.\"\n",
              "            style=\"display:none;\">\n",
              "\n",
              "<svg xmlns=\"http://www.w3.org/2000/svg\" height=\"24px\"viewBox=\"0 0 24 24\"\n",
              "     width=\"24px\">\n",
              "    <g>\n",
              "        <path d=\"M19 3H5c-1.1 0-2 .9-2 2v14c0 1.1.9 2 2 2h14c1.1 0 2-.9 2-2V5c0-1.1-.9-2-2-2zM9 17H7v-7h2v7zm4 0h-2V7h2v10zm4 0h-2v-4h2v4z\"/>\n",
              "    </g>\n",
              "</svg>\n",
              "  </button>\n",
              "\n",
              "<style>\n",
              "  .colab-df-quickchart {\n",
              "    background-color: #E8F0FE;\n",
              "    border: none;\n",
              "    border-radius: 50%;\n",
              "    cursor: pointer;\n",
              "    display: none;\n",
              "    fill: #1967D2;\n",
              "    height: 32px;\n",
              "    padding: 0 0 0 0;\n",
              "    width: 32px;\n",
              "  }\n",
              "\n",
              "  .colab-df-quickchart:hover {\n",
              "    background-color: #E2EBFA;\n",
              "    box-shadow: 0px 1px 2px rgba(60, 64, 67, 0.3), 0px 1px 3px 1px rgba(60, 64, 67, 0.15);\n",
              "    fill: #174EA6;\n",
              "  }\n",
              "\n",
              "  [theme=dark] .colab-df-quickchart {\n",
              "    background-color: #3B4455;\n",
              "    fill: #D2E3FC;\n",
              "  }\n",
              "\n",
              "  [theme=dark] .colab-df-quickchart:hover {\n",
              "    background-color: #434B5C;\n",
              "    box-shadow: 0px 1px 3px 1px rgba(0, 0, 0, 0.15);\n",
              "    filter: drop-shadow(0px 1px 2px rgba(0, 0, 0, 0.3));\n",
              "    fill: #FFFFFF;\n",
              "  }\n",
              "</style>\n",
              "\n",
              "  <script>\n",
              "    async function quickchart(key) {\n",
              "      const charts = await google.colab.kernel.invokeFunction(\n",
              "          'suggestCharts', [key], {});\n",
              "    }\n",
              "    (() => {\n",
              "      let quickchartButtonEl =\n",
              "        document.querySelector('#df-a84a40e4-4f34-4fbb-9344-2f5a9a4a5c40 button');\n",
              "      quickchartButtonEl.style.display =\n",
              "        google.colab.kernel.accessAllowed ? 'block' : 'none';\n",
              "    })();\n",
              "  </script>\n",
              "</div>\n",
              "    </div>\n",
              "  </div>\n"
            ],
            "text/plain": [
              "                        text  label\n",
              "0    고객님 주문은 어떤 방식으로 하시는 건가요      0\n",
              "1               카드 결제로 가능한가요      0\n",
              "2  통화 종료 후 #@전번# 번호로 전화가 가면요      0\n",
              "3           카드 정보를 입력하시면 됩니다      0\n",
              "4              무이자 할부도 가능한가요      0"
            ]
          },
          "execution_count": 17,
          "metadata": {},
          "output_type": "execute_result"
        }
      ],
      "source": [
        "data_ver2.head()"
      ]
    },
    {
      "cell_type": "code",
      "execution_count": null,
      "metadata": {
        "id": "mYZQQfWGG4SG"
      },
      "outputs": [],
      "source": [
        "data_ver1 = data_ver1.rename(columns={'text': 'document'})\n",
        "data_ver2 = data_ver2.rename(columns={'text': 'document'})\n",
        "data_ver3 = data_ver3.rename(columns={'text': 'document'})\n",
        "test_data = test_data.rename(columns={'text': 'document'})"
      ]
    },
    {
      "cell_type": "code",
      "execution_count": null,
      "metadata": {
        "id": "Z3xRoPZsHG_J"
      },
      "outputs": [],
      "source": [
        "train, test = train_test_split(data_ver3, test_size=0.2, random_state=42)"
      ]
    },
    {
      "cell_type": "code",
      "execution_count": null,
      "metadata": {
        "id": "BE2YE5L9v6OE"
      },
      "outputs": [],
      "source": [
        "# # 데이터 불러오기\n",
        "# train = pd.read_csv(\"nsmc/ratings_train.txt\",sep=\"\\t\").sample(10000)\n",
        "# test = pd.read_csv(\"nsmc/ratings_test.txt\",sep=\"\\t\").sample(2000)"
      ]
    },
    {
      "cell_type": "code",
      "execution_count": null,
      "metadata": {
        "colab": {
          "base_uri": "https://localhost:8080/",
          "height": 113,
          "referenced_widgets": [
            "aaed3976391842f9b0521f362a0835e0",
            "4bcf297d359942aaa74a5aa5a6512382",
            "a5e1193232c340e6ae7c2445783e9709",
            "4bdd0a4b9e484e40b623efdb342feed4",
            "2bb141d4ebb54247b00e8fe12c0ccd6f",
            "ac227b2eaa2145e5b1f4b4f7ccd464f7",
            "e03d484ea6f34cc9b0c17ba1026ca6f3",
            "db30ba736bcc44d6b7a5e727b5d3f647",
            "85e9e9f7393a404cba99349c82190849",
            "b687ca01c1e54d72825ef6ecd31f54a8",
            "56ecd9bf8d4c40bc994b5ae7500a4051",
            "6086d4e751274ce288d8228df26e07a0",
            "64bb0faed34b4b4e94ca8689c788238f",
            "4e8ae6ebbc714ed2b8d2d5b93b92026f",
            "d842a5cc870245568d398e522186e1c0",
            "097ba77f97e44b29bb14673c5fc01e28",
            "dcb98e5d939345b9bf8781906275e389",
            "7d6910209f534f1f97f5b6ce7612fc32",
            "47c7035b700a4fda85b1f2fcf237ce50",
            "e13d4d43d6fe40e184de09cb0a088e6c",
            "b280e9d62ebf428a9e77c003177658be",
            "52daf692861b43f98fbe166345a80b5b",
            "70f9ebb23afc4f4f9dbdee463b6df71c",
            "440401b90bb64b2d956d3747d07251a0",
            "361de8626c154aa28eb0c0ff601cd4f5",
            "72c6f953a6fa47ab83b64a7096a09de7",
            "50bd4942a82643b4a077c7a5dec13b31",
            "290d9ed03f0042be81799ca48cc80a06",
            "47a2041b3dd34d79bd38e2ef61c992f5",
            "89fd4b92922b4fb0b7f79305a3348d57",
            "c66c407232de4a92b4dc53476935829e",
            "f7db0cb0221f4a6fa0eeb81fbba3a012",
            "ca2df0d7a6ef4a118a9e16f732d805af"
          ]
        },
        "id": "w0VpCtXmxUz-",
        "outputId": "8e89505a-bbae-4f33-ff3d-3bac9fd7a5e4"
      },
      "outputs": [
        {
          "data": {
            "application/vnd.jupyter.widget-view+json": {
              "model_id": "aaed3976391842f9b0521f362a0835e0",
              "version_major": 2,
              "version_minor": 0
            },
            "text/plain": [
              "Downloading (…)solve/main/vocab.txt:   0%|          | 0.00/263k [00:00<?, ?B/s]"
            ]
          },
          "metadata": {},
          "output_type": "display_data"
        },
        {
          "data": {
            "application/vnd.jupyter.widget-view+json": {
              "model_id": "6086d4e751274ce288d8228df26e07a0",
              "version_major": 2,
              "version_minor": 0
            },
            "text/plain": [
              "Downloading (…)okenizer_config.json:   0%|          | 0.00/61.0 [00:00<?, ?B/s]"
            ]
          },
          "metadata": {},
          "output_type": "display_data"
        },
        {
          "data": {
            "application/vnd.jupyter.widget-view+json": {
              "model_id": "70f9ebb23afc4f4f9dbdee463b6df71c",
              "version_major": 2,
              "version_minor": 0
            },
            "text/plain": [
              "Downloading (…)lve/main/config.json:   0%|          | 0.00/458 [00:00<?, ?B/s]"
            ]
          },
          "metadata": {},
          "output_type": "display_data"
        }
      ],
      "source": [
        "tokenizer = ElectraTokenizer.from_pretrained(\"monologg/koelectra-small-v3-discriminator\")"
      ]
    },
    {
      "cell_type": "code",
      "execution_count": null,
      "metadata": {
        "colab": {
          "base_uri": "https://localhost:8080/"
        },
        "id": "N5Ps3np4xv99",
        "outputId": "cdcb9620-24ff-4376-e0a7-3d2a21519548"
      },
      "outputs": [
        {
          "data": {
            "text/plain": [
              "ElectraTokenizer(name_or_path='monologg/koelectra-small-v3-discriminator', vocab_size=35000, model_max_length=512, is_fast=False, padding_side='right', truncation_side='right', special_tokens={'unk_token': '[UNK]', 'sep_token': '[SEP]', 'pad_token': '[PAD]', 'cls_token': '[CLS]', 'mask_token': '[MASK]'}, clean_up_tokenization_spaces=True)"
            ]
          },
          "execution_count": 22,
          "metadata": {},
          "output_type": "execute_result"
        }
      ],
      "source": [
        "tokenizer"
      ]
    },
    {
      "cell_type": "code",
      "execution_count": null,
      "metadata": {
        "id": "EC5mQ83Jyq2k"
      },
      "outputs": [],
      "source": [
        "## Data Tokenize 및 Pytorch 형태 변환\n",
        "max_length = 128\n",
        "\n",
        "#학습 데이터셋 배치 데이터 인코딩\n",
        "train_batch_encoding = tokenizer.batch_encode_plus([(row[\"document\"],None) for ix,row in train.iterrows()]\n",
        "                      ,max_length=max_length\n",
        "                      ,add_special_tokens=True\n",
        "                      ,truncation=True\n",
        "                      ,return_tensors=\"pt\"\n",
        "                      ,padding=\"max_length\")\n",
        "\n",
        "test_batch_encoding = tokenizer.batch_encode_plus([(row[\"document\"],None) for ix,row in test.iterrows()]\n",
        "                      ,max_length=max_length\n",
        "                      ,add_special_tokens=True\n",
        "                      ,truncation=True\n",
        "                      ,return_tensors=\"pt\"\n",
        "                      ,padding=\"max_length\")\n",
        "\n",
        "\n",
        "\n",
        "test_check_batch_encoding = tokenizer.batch_encode_plus([(row[\"document\"],None) for ix,row in test_data.iterrows()]\n",
        "                      ,max_length=max_length\n",
        "                      ,add_special_tokens=True\n",
        "                      ,truncation=True\n",
        "                      ,return_tensors=\"pt\"\n",
        "                      ,padding=\"max_length\")"
      ]
    },
    {
      "cell_type": "code",
      "execution_count": null,
      "metadata": {
        "id": "XQJNs_L-y_0M"
      },
      "outputs": [],
      "source": [
        "#y데이터 설정\n",
        "train_labels = torch.tensor(train[\"label\"].tolist(),dtype=torch.long)\n",
        "test_labels = torch.tensor(test[\"label\"].tolist(),dtype=torch.long)\n",
        "\n",
        "test_check_labels = torch.tensor(test_data[\"label\"].tolist(),dtype=torch.long)"
      ]
    },
    {
      "cell_type": "code",
      "execution_count": null,
      "metadata": {
        "colab": {
          "base_uri": "https://localhost:8080/"
        },
        "id": "X80u7YekzCxr",
        "outputId": "2d10bf95-cd66-4fd9-cba2-8a3652d647e4"
      },
      "outputs": [
        {
          "data": {
            "text/plain": [
              "torch.Size([115407])"
            ]
          },
          "execution_count": 25,
          "metadata": {},
          "output_type": "execute_result"
        }
      ],
      "source": [
        "train_labels.shape"
      ]
    },
    {
      "cell_type": "code",
      "execution_count": null,
      "metadata": {
        "colab": {
          "base_uri": "https://localhost:8080/"
        },
        "id": "WnA6AUj1zETb",
        "outputId": "2d2f49c7-8914-4127-f635-5dc0ebe07794"
      },
      "outputs": [
        {
          "data": {
            "text/plain": [
              "torch.Size([28852])"
            ]
          },
          "execution_count": 26,
          "metadata": {},
          "output_type": "execute_result"
        }
      ],
      "source": [
        "test_labels.shape"
      ]
    },
    {
      "cell_type": "code",
      "execution_count": null,
      "metadata": {
        "id": "CbIRAwR3zEmr"
      },
      "outputs": [],
      "source": [
        "#입력 데이터셋 구성\n",
        "train_ds = TensorDataset(train_batch_encoding.input_ids\n",
        "                         ,train_batch_encoding.attention_mask\n",
        "                        ,train_batch_encoding.token_type_ids,train_labels)\n",
        "test_ds = TensorDataset(test_batch_encoding.input_ids\n",
        "                         ,test_batch_encoding.attention_mask\n",
        "                        ,test_batch_encoding.token_type_ids,test_labels)\n",
        "test_check_ds = TensorDataset(test_check_batch_encoding.input_ids\n",
        "                         ,test_check_batch_encoding.attention_mask\n",
        "                        ,test_check_batch_encoding.token_type_ids,test_check_labels)"
      ]
    },
    {
      "cell_type": "code",
      "execution_count": null,
      "metadata": {
        "id": "xZSIgEmSXDjJ"
      },
      "outputs": [],
      "source": []
    },
    {
      "cell_type": "code",
      "execution_count": null,
      "metadata": {
        "id": "F5qZzJKqzF6L"
      },
      "outputs": [],
      "source": [
        "# torch.save  torch.load 기능을 사용하여 tokenize 된 데이터를 save 하거나 load 가능함\n",
        "# save\n",
        "torch.save(train_ds,\"cached_nsmc_train\")\n",
        "torch.save(test_ds,\"cached_nsmc_test\")\n",
        "torch.save(test_check_ds,\"cached_nsmc_test_check\")"
      ]
    },
    {
      "cell_type": "code",
      "execution_count": null,
      "metadata": {
        "id": "4OzK_SsqzPhL"
      },
      "outputs": [],
      "source": [
        "# load\n",
        "train_ds = torch.load(\"cached_nsmc_train\")\n",
        "test_ds = torch.load(\"cached_nsmc_test\")\n",
        "\n",
        "test_check_ds = torch.load(\"cached_nsmc_test_check\")"
      ]
    },
    {
      "cell_type": "code",
      "execution_count": null,
      "metadata": {
        "colab": {
          "base_uri": "https://localhost:8080/",
          "height": 86,
          "referenced_widgets": [
            "84c0a87dc6e14aacb0bba8efbb1b672b",
            "3519926724c048c9970ba1f2ad189e53",
            "2a28d02955e449b5a17600d12b0cb7e3",
            "6366d345dcc240f089a2579e3fa62a7c",
            "8e18aa4ec39e4374bd059fcb8b5ba98c",
            "ae2678de4ea54c10a8cb04a9a128ad57",
            "4db350def50e4aeab0c999260f74ed25",
            "ff0405b4e5dd4dc189be4d8ebd6b6ba2",
            "85cb17e48dd049c08e882163279f030a",
            "1a0ce74838084c66988fe2a4673e386b",
            "d1e1ca1a6df6484088561f6029b20db5"
          ]
        },
        "id": "0uMXKcUJzaOc",
        "outputId": "691a0327-97e7-43dc-868d-d6d0a8830986"
      },
      "outputs": [
        {
          "data": {
            "application/vnd.jupyter.widget-view+json": {
              "model_id": "84c0a87dc6e14aacb0bba8efbb1b672b",
              "version_major": 2,
              "version_minor": 0
            },
            "text/plain": [
              "Downloading pytorch_model.bin:   0%|          | 0.00/56.6M [00:00<?, ?B/s]"
            ]
          },
          "metadata": {},
          "output_type": "display_data"
        },
        {
          "name": "stderr",
          "output_type": "stream",
          "text": [
            "Some weights of ElectraForSequenceClassification were not initialized from the model checkpoint at monologg/koelectra-small-v3-discriminator and are newly initialized: ['classifier.dense.bias', 'classifier.out_proj.weight', 'classifier.out_proj.bias', 'classifier.dense.weight']\n",
            "You should probably TRAIN this model on a down-stream task to be able to use it for predictions and inference.\n"
          ]
        }
      ],
      "source": [
        "# Pre-Trained ELECTRA 모델 불러오기\n",
        "# ElectraForSequenceClassification 모듈은 ELECTRA 모델을 classification으로 fine-tune 할 때 사용하는 모듈\n",
        "torch.cuda.empty_cache()\n",
        "model = ElectraForSequenceClassification.from_pretrained(\"monologg/koelectra-small-v3-discriminator\"\n",
        "                                                        ,num_labels=train[\"label\"].nunique())"
      ]
    },
    {
      "cell_type": "code",
      "execution_count": null,
      "metadata": {
        "colab": {
          "base_uri": "https://localhost:8080/"
        },
        "id": "hP4qzDoOzgTz",
        "outputId": "f22016b6-8413-47fc-eb8e-009500cd93a6"
      },
      "outputs": [
        {
          "name": "stdout",
          "output_type": "stream",
          "text": [
            "ELECTRA-small model 파라미터 수 :  14122498\n",
            "-------------------------------------------------------------------------\n",
            "ElectraForSequenceClassification(\n",
            "  (electra): ElectraModel(\n",
            "    (embeddings): ElectraEmbeddings(\n",
            "      (word_embeddings): Embedding(35000, 128, padding_idx=0)\n",
            "      (position_embeddings): Embedding(512, 128)\n",
            "      (token_type_embeddings): Embedding(2, 128)\n",
            "      (LayerNorm): LayerNorm((128,), eps=1e-12, elementwise_affine=True)\n",
            "      (dropout): Dropout(p=0.1, inplace=False)\n",
            "    )\n",
            "    (embeddings_project): Linear(in_features=128, out_features=256, bias=True)\n",
            "    (encoder): ElectraEncoder(\n",
            "      (layer): ModuleList(\n",
            "        (0-11): 12 x ElectraLayer(\n",
            "          (attention): ElectraAttention(\n",
            "            (self): ElectraSelfAttention(\n",
            "              (query): Linear(in_features=256, out_features=256, bias=True)\n",
            "              (key): Linear(in_features=256, out_features=256, bias=True)\n",
            "              (value): Linear(in_features=256, out_features=256, bias=True)\n",
            "              (dropout): Dropout(p=0.1, inplace=False)\n",
            "            )\n",
            "            (output): ElectraSelfOutput(\n",
            "              (dense): Linear(in_features=256, out_features=256, bias=True)\n",
            "              (LayerNorm): LayerNorm((256,), eps=1e-12, elementwise_affine=True)\n",
            "              (dropout): Dropout(p=0.1, inplace=False)\n",
            "            )\n",
            "          )\n",
            "          (intermediate): ElectraIntermediate(\n",
            "            (dense): Linear(in_features=256, out_features=1024, bias=True)\n",
            "            (intermediate_act_fn): GELUActivation()\n",
            "          )\n",
            "          (output): ElectraOutput(\n",
            "            (dense): Linear(in_features=1024, out_features=256, bias=True)\n",
            "            (LayerNorm): LayerNorm((256,), eps=1e-12, elementwise_affine=True)\n",
            "            (dropout): Dropout(p=0.1, inplace=False)\n",
            "          )\n",
            "        )\n",
            "      )\n",
            "    )\n",
            "  )\n",
            "  (classifier): ElectraClassificationHead(\n",
            "    (dense): Linear(in_features=256, out_features=256, bias=True)\n",
            "    (dropout): Dropout(p=0.1, inplace=False)\n",
            "    (out_proj): Linear(in_features=256, out_features=2, bias=True)\n",
            "  )\n",
            ")\n"
          ]
        }
      ],
      "source": [
        "## 전체 파라미터 수 및 모델 정보 확인\n",
        "def count_parameters(model):\n",
        "    return sum(p.numel() for p in model.parameters() if p.requires_grad)\n",
        "print(\"ELECTRA-small model 파라미터 수 : \",count_parameters(model))\n",
        "print(\"-------------------------------------------------------------------------\")\n",
        "print(model)"
      ]
    },
    {
      "cell_type": "code",
      "execution_count": null,
      "metadata": {
        "id": "4tLiNVsWzjsy"
      },
      "outputs": [],
      "source": [
        "# 학습 관련 파라미터\n",
        "epochs = 3\n",
        "lr_rate = 5e-05\n",
        "save_steps = 1000\n",
        "batch_size = 32\n",
        "weights_dir = \"weights/nsmc/\"\n",
        "\n",
        "if os.path.isdir(weights_dir)==False:\n",
        "    os.makedirs(weights_dir)"
      ]
    },
    {
      "cell_type": "code",
      "execution_count": null,
      "metadata": {
        "colab": {
          "base_uri": "https://localhost:8080/"
        },
        "id": "-ugZNtStzyDT",
        "outputId": "2ef07b27-4e3c-4638-b120-7b0413d095c5"
      },
      "outputs": [
        {
          "data": {
            "text/plain": [
              "ElectraForSequenceClassification(\n",
              "  (electra): ElectraModel(\n",
              "    (embeddings): ElectraEmbeddings(\n",
              "      (word_embeddings): Embedding(35000, 128, padding_idx=0)\n",
              "      (position_embeddings): Embedding(512, 128)\n",
              "      (token_type_embeddings): Embedding(2, 128)\n",
              "      (LayerNorm): LayerNorm((128,), eps=1e-12, elementwise_affine=True)\n",
              "      (dropout): Dropout(p=0.1, inplace=False)\n",
              "    )\n",
              "    (embeddings_project): Linear(in_features=128, out_features=256, bias=True)\n",
              "    (encoder): ElectraEncoder(\n",
              "      (layer): ModuleList(\n",
              "        (0-11): 12 x ElectraLayer(\n",
              "          (attention): ElectraAttention(\n",
              "            (self): ElectraSelfAttention(\n",
              "              (query): Linear(in_features=256, out_features=256, bias=True)\n",
              "              (key): Linear(in_features=256, out_features=256, bias=True)\n",
              "              (value): Linear(in_features=256, out_features=256, bias=True)\n",
              "              (dropout): Dropout(p=0.1, inplace=False)\n",
              "            )\n",
              "            (output): ElectraSelfOutput(\n",
              "              (dense): Linear(in_features=256, out_features=256, bias=True)\n",
              "              (LayerNorm): LayerNorm((256,), eps=1e-12, elementwise_affine=True)\n",
              "              (dropout): Dropout(p=0.1, inplace=False)\n",
              "            )\n",
              "          )\n",
              "          (intermediate): ElectraIntermediate(\n",
              "            (dense): Linear(in_features=256, out_features=1024, bias=True)\n",
              "            (intermediate_act_fn): GELUActivation()\n",
              "          )\n",
              "          (output): ElectraOutput(\n",
              "            (dense): Linear(in_features=1024, out_features=256, bias=True)\n",
              "            (LayerNorm): LayerNorm((256,), eps=1e-12, elementwise_affine=True)\n",
              "            (dropout): Dropout(p=0.1, inplace=False)\n",
              "          )\n",
              "        )\n",
              "      )\n",
              "    )\n",
              "  )\n",
              "  (classifier): ElectraClassificationHead(\n",
              "    (dense): Linear(in_features=256, out_features=256, bias=True)\n",
              "    (dropout): Dropout(p=0.1, inplace=False)\n",
              "    (out_proj): Linear(in_features=256, out_features=2, bias=True)\n",
              "  )\n",
              ")"
            ]
          },
          "execution_count": 33,
          "metadata": {},
          "output_type": "execute_result"
        }
      ],
      "source": [
        "# train Data Loader\n",
        "train_sampler = RandomSampler(train_ds) # Data Shuffle,random batch\n",
        "train_dataloader = DataLoader(train_ds,sampler=train_sampler,batch_size=batch_size)\n",
        "\n",
        "# Valid Data Loader\n",
        "test_sampler = SequentialSampler(test_ds) # shuffle 없이 순서대로 데이처 추출\n",
        "test_dataloader = DataLoader(test_ds,sampler=test_sampler,batch_size=batch_size*2, shuffle=False)\n",
        "\n",
        "# Valid Data Loader\n",
        "test_check_sampler = SequentialSampler(test_check_ds) # shuffle 없이 순서대로 데이처 추출\n",
        "test_check_dataloader = DataLoader(test_check_ds,sampler=test_check_sampler,batch_size=batch_size*2, shuffle=False)\n",
        "\n",
        "\n",
        "# Optimizer 정의\n",
        "optimizer = optim.Adam(params = model.parameters() ,lr=lr_rate)\n",
        "\n",
        "model.to(device)"
      ]
    },
    {
      "cell_type": "code",
      "execution_count": null,
      "metadata": {
        "colab": {
          "base_uri": "https://localhost:8080/"
        },
        "id": "6tffXbG5z2jl",
        "outputId": "8fa31a6b-db40-45aa-f78e-213bfdbbdbd2"
      },
      "outputs": [
        {
          "data": {
            "text/plain": [
              "SequenceClassifierOutput(loss=tensor(0.6851, device='cuda:0', grad_fn=<NllLossBackward0>), logits=tensor([[ 1.0661e-02, -4.6591e-03],\n",
              "        [ 1.1513e-02, -4.1519e-03],\n",
              "        [ 1.6133e-02, -1.2165e-02],\n",
              "        [ 1.1863e-02, -3.6113e-03],\n",
              "        [ 4.8675e-03, -9.9896e-03],\n",
              "        [ 1.2698e-02, -6.4527e-03],\n",
              "        [ 1.1545e-02, -1.2101e-03],\n",
              "        [ 2.0849e-02, -3.7688e-03],\n",
              "        [ 1.8534e-02, -1.9834e-03],\n",
              "        [ 1.1633e-02, -1.3586e-03],\n",
              "        [ 1.3303e-02, -3.4699e-03],\n",
              "        [ 1.6740e-02, -5.2835e-03],\n",
              "        [ 1.7171e-02, -1.2533e-03],\n",
              "        [ 9.8002e-03, -4.6701e-03],\n",
              "        [ 1.1628e-02, -1.1144e-02],\n",
              "        [ 2.2201e-02, -1.8113e-03],\n",
              "        [ 9.6321e-03, -6.1825e-03],\n",
              "        [ 5.4474e-03, -4.5595e-03],\n",
              "        [ 1.8427e-02, -5.3282e-03],\n",
              "        [ 1.3566e-02, -1.0607e-02],\n",
              "        [ 6.9149e-03,  1.2988e-03],\n",
              "        [ 1.9511e-02, -5.5404e-03],\n",
              "        [ 1.8503e-02, -1.0928e-02],\n",
              "        [-8.4685e-03,  4.8488e-03],\n",
              "        [ 1.2709e-02, -2.3325e-03],\n",
              "        [ 9.7486e-03, -4.2027e-03],\n",
              "        [ 1.9592e-02, -7.3464e-04],\n",
              "        [ 3.3303e-03, -8.6793e-03],\n",
              "        [ 1.1928e-02,  1.3837e-03],\n",
              "        [ 6.6217e-03,  3.5410e-05],\n",
              "        [ 4.9238e-03, -3.9959e-03],\n",
              "        [ 1.6470e-02,  2.5017e-03]], device='cuda:0', grad_fn=<AddmmBackward0>), hidden_states=None, attentions=None)"
            ]
          },
          "execution_count": 34,
          "metadata": {},
          "output_type": "execute_result"
        }
      ],
      "source": [
        "## 모델 입력 및 결과 확인\n",
        "batch = next(iter(train_dataloader))\n",
        "batch = tuple(t.to(device) for t in batch) # cpu 및 gpu 옵션에 따라 데이터 전환\n",
        "#train mode\n",
        "inputs = {\n",
        "    \"input_ids\": batch[0],\n",
        "    \"attention_mask\": batch[1],\n",
        "    \"labels\": batch[3]\n",
        "    }\n",
        "outputs = model(**inputs)\n",
        "outputs\n",
        "# 모델 출력결과는 loss 및 logits으로 구성 됨 (num_labels 2개 이상인 경우 CrossEntropy loss로 적용됨)\n",
        "# logits 은 모델 forward 예측 결과"
      ]
    },
    {
      "cell_type": "code",
      "execution_count": null,
      "metadata": {
        "colab": {
          "base_uri": "https://localhost:8080/"
        },
        "id": "oFKfmI5Kz8JM",
        "outputId": "96efb463-0ea3-4ace-a79a-a08e6b1f1f50"
      },
      "outputs": [
        {
          "name": "stdout",
          "output_type": "stream",
          "text": [
            "########### Training Epoch:00 ###########\n",
            "Global Step:000000   Loss:0.6869\n",
            "Global Step:000100   Loss:0.0665\n",
            "Global Step:000200   Loss:0.0175\n",
            "Global Step:000300   Loss:0.0108\n",
            "Global Step:000400   Loss:0.1360\n",
            "Global Step:000500   Loss:0.1603\n",
            "Global Step:000600   Loss:0.0050\n",
            "Global Step:000700   Loss:0.0040\n",
            "Global Step:000800   Loss:0.0031\n",
            "Global Step:000900   Loss:0.1866\n",
            "Global Step:001000   Loss:0.0023\n",
            "########### Running evalution on 001000 ###########\n"
          ]
        },
        {
          "name": "stderr",
          "output_type": "stream",
          "text": [
            "100%|██████████| 451/451 [00:34<00:00, 13.05it/s]\n"
          ]
        },
        {
          "name": "stdout",
          "output_type": "stream",
          "text": [
            "Evaluation Result Loss:0.0155 acc:0.9964\n",
            "Saving model checkpoint to weights/nsmc/checkpoint-1000\n",
            "Global Step:001100   Loss:0.0016\n",
            "Global Step:001200   Loss:0.0020\n",
            "Global Step:001300   Loss:0.0049\n",
            "Global Step:001400   Loss:0.0050\n",
            "Global Step:001500   Loss:0.0042\n",
            "Global Step:001600   Loss:0.0016\n",
            "Global Step:001700   Loss:0.0072\n",
            "Global Step:001800   Loss:0.0009\n",
            "Global Step:001900   Loss:0.0008\n",
            "Global Step:002000   Loss:0.0005\n",
            "########### Running evalution on 002000 ###########\n"
          ]
        },
        {
          "name": "stderr",
          "output_type": "stream",
          "text": [
            "100%|██████████| 451/451 [00:32<00:00, 13.67it/s]\n"
          ]
        },
        {
          "name": "stdout",
          "output_type": "stream",
          "text": [
            "Evaluation Result Loss:0.0109 acc:0.9980\n",
            "Saving model checkpoint to weights/nsmc/checkpoint-2000\n",
            "Global Step:002100   Loss:0.0017\n",
            "Global Step:002200   Loss:0.0006\n",
            "Global Step:002300   Loss:0.0004\n",
            "Global Step:002400   Loss:0.0012\n",
            "Global Step:002500   Loss:0.0005\n",
            "Global Step:002600   Loss:0.0010\n",
            "Global Step:002700   Loss:0.0009\n",
            "Global Step:002800   Loss:0.0007\n",
            "Global Step:002900   Loss:0.0005\n",
            "Global Step:003000   Loss:0.0008\n",
            "########### Running evalution on 003000 ###########\n"
          ]
        },
        {
          "name": "stderr",
          "output_type": "stream",
          "text": [
            "100%|██████████| 451/451 [00:33<00:00, 13.55it/s]\n"
          ]
        },
        {
          "name": "stdout",
          "output_type": "stream",
          "text": [
            "Evaluation Result Loss:0.0058 acc:0.9986\n",
            "Saving model checkpoint to weights/nsmc/checkpoint-3000\n",
            "Global Step:003100   Loss:0.0026\n",
            "Global Step:003200   Loss:0.0006\n",
            "Global Step:003300   Loss:0.0014\n",
            "Global Step:003400   Loss:0.0005\n",
            "Global Step:003500   Loss:0.0024\n",
            "Global Step:003600   Loss:0.0005\n",
            "########### Training Epoch:01 ###########\n",
            "Global Step:003700   Loss:0.0033\n",
            "Global Step:003800   Loss:0.0004\n",
            "Global Step:003900   Loss:0.0002\n",
            "Global Step:004000   Loss:0.0002\n",
            "########### Running evalution on 004000 ###########\n"
          ]
        },
        {
          "name": "stderr",
          "output_type": "stream",
          "text": [
            "100%|██████████| 451/451 [00:33<00:00, 13.58it/s]\n"
          ]
        },
        {
          "name": "stdout",
          "output_type": "stream",
          "text": [
            "Evaluation Result Loss:0.0069 acc:0.9985\n",
            "Saving model checkpoint to weights/nsmc/checkpoint-4000\n",
            "Global Step:004100   Loss:0.0006\n",
            "Global Step:004200   Loss:0.0018\n",
            "Global Step:004300   Loss:0.0006\n",
            "Global Step:004400   Loss:0.0003\n",
            "Global Step:004500   Loss:0.0009\n",
            "Global Step:004600   Loss:0.0008\n",
            "Global Step:004700   Loss:0.0002\n",
            "Global Step:004800   Loss:0.0005\n",
            "Global Step:004900   Loss:0.0002\n",
            "Global Step:005000   Loss:0.0035\n",
            "########### Running evalution on 005000 ###########\n"
          ]
        },
        {
          "name": "stderr",
          "output_type": "stream",
          "text": [
            "100%|██████████| 451/451 [00:33<00:00, 13.51it/s]\n"
          ]
        },
        {
          "name": "stdout",
          "output_type": "stream",
          "text": [
            "Evaluation Result Loss:0.0087 acc:0.9980\n",
            "Saving model checkpoint to weights/nsmc/checkpoint-5000\n",
            "Global Step:005100   Loss:0.0003\n",
            "Global Step:005200   Loss:0.0066\n",
            "Global Step:005300   Loss:0.0006\n",
            "Global Step:005400   Loss:0.0007\n",
            "Global Step:005500   Loss:0.0002\n",
            "Global Step:005600   Loss:0.0008\n",
            "Global Step:005700   Loss:0.0002\n",
            "Global Step:005800   Loss:0.0012\n",
            "Global Step:005900   Loss:0.0002\n",
            "Global Step:006000   Loss:0.0007\n",
            "########### Running evalution on 006000 ###########\n"
          ]
        },
        {
          "name": "stderr",
          "output_type": "stream",
          "text": [
            "100%|██████████| 451/451 [00:33<00:00, 13.30it/s]\n"
          ]
        },
        {
          "name": "stdout",
          "output_type": "stream",
          "text": [
            "Evaluation Result Loss:0.0098 acc:0.9964\n",
            "Saving model checkpoint to weights/nsmc/checkpoint-6000\n",
            "Global Step:006100   Loss:0.0026\n",
            "Global Step:006200   Loss:0.0021\n",
            "Global Step:006300   Loss:0.0002\n",
            "Global Step:006400   Loss:0.0021\n",
            "Global Step:006500   Loss:0.0004\n",
            "Global Step:006600   Loss:0.0009\n",
            "Global Step:006700   Loss:0.0012\n",
            "Global Step:006800   Loss:0.0007\n",
            "Global Step:006900   Loss:0.0003\n",
            "Global Step:007000   Loss:0.0001\n",
            "########### Running evalution on 007000 ###########\n"
          ]
        },
        {
          "name": "stderr",
          "output_type": "stream",
          "text": [
            "100%|██████████| 451/451 [00:33<00:00, 13.58it/s]\n"
          ]
        },
        {
          "name": "stdout",
          "output_type": "stream",
          "text": [
            "Evaluation Result Loss:0.0061 acc:0.9990\n",
            "Saving model checkpoint to weights/nsmc/checkpoint-7000\n",
            "Global Step:007100   Loss:0.0003\n",
            "Global Step:007200   Loss:0.0012\n",
            "########### Training Epoch:02 ###########\n",
            "Global Step:007300   Loss:0.0006\n",
            "Global Step:007400   Loss:0.0002\n",
            "Global Step:007500   Loss:0.0004\n",
            "Global Step:007600   Loss:0.0002\n",
            "Global Step:007700   Loss:0.0003\n",
            "Global Step:007800   Loss:0.0001\n",
            "Global Step:007900   Loss:0.0001\n",
            "Global Step:008000   Loss:0.0001\n",
            "########### Running evalution on 008000 ###########\n"
          ]
        },
        {
          "name": "stderr",
          "output_type": "stream",
          "text": [
            "100%|██████████| 451/451 [00:33<00:00, 13.42it/s]\n"
          ]
        },
        {
          "name": "stdout",
          "output_type": "stream",
          "text": [
            "Evaluation Result Loss:0.0051 acc:0.9992\n",
            "Saving model checkpoint to weights/nsmc/checkpoint-8000\n",
            "Global Step:008100   Loss:0.0001\n",
            "Global Step:008200   Loss:0.0001\n",
            "Global Step:008300   Loss:0.0004\n",
            "Global Step:008400   Loss:0.0002\n",
            "Global Step:008500   Loss:0.0001\n",
            "Global Step:008600   Loss:0.0267\n",
            "Global Step:008700   Loss:0.0006\n",
            "Global Step:008800   Loss:0.0001\n",
            "Global Step:008900   Loss:0.0004\n",
            "Global Step:009000   Loss:0.0001\n",
            "########### Running evalution on 009000 ###########\n"
          ]
        },
        {
          "name": "stderr",
          "output_type": "stream",
          "text": [
            "100%|██████████| 451/451 [00:33<00:00, 13.43it/s]\n"
          ]
        },
        {
          "name": "stdout",
          "output_type": "stream",
          "text": [
            "Evaluation Result Loss:0.0036 acc:0.9991\n",
            "Saving model checkpoint to weights/nsmc/checkpoint-9000\n",
            "Global Step:009100   Loss:0.0001\n",
            "Global Step:009200   Loss:0.0005\n",
            "Global Step:009300   Loss:0.0001\n",
            "Global Step:009400   Loss:0.0023\n",
            "Global Step:009500   Loss:0.0002\n",
            "Global Step:009600   Loss:0.0009\n",
            "Global Step:009700   Loss:0.0001\n",
            "Global Step:009800   Loss:0.0029\n",
            "Global Step:009900   Loss:0.0007\n",
            "Global Step:010000   Loss:0.0001\n",
            "########### Running evalution on 010000 ###########\n"
          ]
        },
        {
          "name": "stderr",
          "output_type": "stream",
          "text": [
            "100%|██████████| 451/451 [00:33<00:00, 13.58it/s]\n"
          ]
        },
        {
          "name": "stdout",
          "output_type": "stream",
          "text": [
            "Evaluation Result Loss:0.0043 acc:0.9992\n",
            "Saving model checkpoint to weights/nsmc/checkpoint-10000\n",
            "Global Step:010100   Loss:0.0001\n",
            "Global Step:010200   Loss:0.0002\n",
            "Global Step:010300   Loss:0.0002\n",
            "Global Step:010400   Loss:0.0001\n",
            "Global Step:010500   Loss:0.0029\n",
            "Global Step:010600   Loss:0.1627\n",
            "Global Step:010700   Loss:0.0002\n",
            "Global Step:010800   Loss:0.0001\n",
            "Complete Train!!\n"
          ]
        }
      ],
      "source": [
        "global_step = 0\n",
        "train_loss = 0.0\n",
        "\n",
        "model.zero_grad() # gradient 초기화\n",
        "#train 시작\n",
        "for epoch in range(epochs):\n",
        "    print(f\"########### Training Epoch:{epoch:02d} ###########\")\n",
        "    for step,batch in enumerate(train_dataloader):\n",
        "        batch = tuple(t.to(device) for t in batch) # cpu 및 gpu 옵션에 따라 데이터 전환\n",
        "        model.train() #train mode\n",
        "        #입력 변수 파라미터 정의\n",
        "        inputs = {\n",
        "            \"input_ids\": batch[0],\n",
        "            \"attention_mask\": batch[1],\n",
        "            \"token_type_ids\":batch[2],\n",
        "            \"labels\": batch[3]\n",
        "            }\n",
        "        #모델에 입력된 값을 기준으로 예측값 생성\n",
        "        outputs = model(**inputs) # 가변 입력 함수\n",
        "\n",
        "        #예측값과 실제값가지로 로스 계산\n",
        "        loss = outputs.loss\n",
        "\n",
        "        loss.backward() # paramter gradient 계산\n",
        "        if global_step%100==0:\n",
        "            print(f\"Global Step:{global_step:06d}   Loss:{loss.item():.4f}\")\n",
        "        train_loss += loss\n",
        "\n",
        "        optimizer.step()  # weight 갱신\n",
        "        model.zero_grad() # gradient 초기화\n",
        "\n",
        "        #모델 evaluation\n",
        "        if (global_step%save_steps==0)&(global_step>1):\n",
        "            print(f\"########### Running evalution on {global_step:06d} ###########\")\n",
        "            eval_losses = 0.0\n",
        "            true_label = []\n",
        "            pred = []\n",
        "            eval_step = 0\n",
        "            for batch in tqdm(test_dataloader):\n",
        "                model.eval() # evaluation mode\n",
        "                with torch.no_grad():\n",
        "                    batch = tuple(t.to(device) for t in batch)\n",
        "                    inputs = {\n",
        "                        \"input_ids\": batch[0],\n",
        "                        \"attention_mask\": batch[1],\n",
        "                        \"token_type_ids\":batch[2],\n",
        "                        \"labels\": batch[3]\n",
        "                        }\n",
        "                    outputs = model(**inputs)\n",
        "                    eval_loss,eval_logits = outputs.loss,outputs.logits\n",
        "\n",
        "                    eval_losses += eval_loss.mean().item()\n",
        "                eval_step += 1\n",
        "\n",
        "                pred.append(outputs.logits.detach().cpu().numpy()) # detach 는 logits의 텐서를 gradient 전파 없이 복사하는 방법\n",
        "                true_label.append(batch[3].detach().cpu().numpy())\n",
        "\n",
        "            eval_losses = eval_losses/eval_step\n",
        "\n",
        "            pred = np.argmax(np.concatenate(pred,axis=0),axis=1)\n",
        "            true_label = np.concatenate(true_label,axis=0)\n",
        "            #정확도 계산\n",
        "            eval_result = (pred==true_label).mean()\n",
        "            print(f\"Evaluation Result Loss:{eval_losses:.4f} acc:{eval_result:.4f}\")\n",
        "\n",
        "            #모델 저장 디렉토리 설정\n",
        "            output_dir = os.path.join(weights_dir,f\"checkpoint-{global_step}\")\n",
        "            if not os.path.isdir(output_dir):\n",
        "                os.makedirs(output_dir)\n",
        "            #모델 저장\n",
        "            model_to_save = (\n",
        "                        model.module if hasattr(model, \"module\") else model\n",
        "                    )\n",
        "            model_to_save.save_pretrained(output_dir)\n",
        "            print(f\"Saving model checkpoint to {output_dir}\")\n",
        "        global_step += 1\n",
        "print(\"Complete Train!!\")"
      ]
    },
    {
      "cell_type": "code",
      "execution_count": null,
      "metadata": {
        "colab": {
          "base_uri": "https://localhost:8080/"
        },
        "id": "q-u9cUER0W1E",
        "outputId": "1328c25f-127a-4f8b-e1f2-5b59c76d2770"
      },
      "outputs": [
        {
          "name": "stderr",
          "output_type": "stream",
          "text": [
            "100%|██████████| 451/451 [00:33<00:00, 13.56it/s]\n"
          ]
        },
        {
          "name": "stdout",
          "output_type": "stream",
          "text": [
            "Global Step:1000 Evaluation Result Loss:0.0155 acc:0.9964\n",
            "              precision    recall  f1-score   support\n",
            "\n",
            "           0       1.00      1.00      1.00     28620\n",
            "           1       0.99      0.56      0.72       232\n",
            "\n",
            "    accuracy                           1.00     28852\n",
            "   macro avg       0.99      0.78      0.86     28852\n",
            "weighted avg       1.00      1.00      1.00     28852\n",
            "\n",
            "[[28619     1]\n",
            " [  102   130]]\n"
          ]
        },
        {
          "name": "stderr",
          "output_type": "stream",
          "text": [
            "100%|██████████| 451/451 [00:33<00:00, 13.55it/s]\n"
          ]
        },
        {
          "name": "stdout",
          "output_type": "stream",
          "text": [
            "Global Step:2000 Evaluation Result Loss:0.0109 acc:0.9980\n",
            "              precision    recall  f1-score   support\n",
            "\n",
            "           0       1.00      1.00      1.00     28620\n",
            "           1       1.00      0.75      0.86       232\n",
            "\n",
            "    accuracy                           1.00     28852\n",
            "   macro avg       1.00      0.88      0.93     28852\n",
            "weighted avg       1.00      1.00      1.00     28852\n",
            "\n",
            "[[28620     0]\n",
            " [   58   174]]\n"
          ]
        },
        {
          "name": "stderr",
          "output_type": "stream",
          "text": [
            "100%|██████████| 451/451 [00:33<00:00, 13.60it/s]\n"
          ]
        },
        {
          "name": "stdout",
          "output_type": "stream",
          "text": [
            "Global Step:3000 Evaluation Result Loss:0.0058 acc:0.9986\n",
            "              precision    recall  f1-score   support\n",
            "\n",
            "           0       1.00      1.00      1.00     28620\n",
            "           1       0.94      0.89      0.91       232\n",
            "\n",
            "    accuracy                           1.00     28852\n",
            "   macro avg       0.97      0.94      0.96     28852\n",
            "weighted avg       1.00      1.00      1.00     28852\n",
            "\n",
            "[[28607    13]\n",
            " [   26   206]]\n"
          ]
        },
        {
          "name": "stderr",
          "output_type": "stream",
          "text": [
            "100%|██████████| 451/451 [00:33<00:00, 13.56it/s]\n"
          ]
        },
        {
          "name": "stdout",
          "output_type": "stream",
          "text": [
            "Global Step:4000 Evaluation Result Loss:0.0069 acc:0.9985\n",
            "              precision    recall  f1-score   support\n",
            "\n",
            "           0       1.00      1.00      1.00     28620\n",
            "           1       1.00      0.82      0.90       232\n",
            "\n",
            "    accuracy                           1.00     28852\n",
            "   macro avg       1.00      0.91      0.95     28852\n",
            "weighted avg       1.00      1.00      1.00     28852\n",
            "\n",
            "[[28620     0]\n",
            " [   42   190]]\n"
          ]
        },
        {
          "name": "stderr",
          "output_type": "stream",
          "text": [
            "100%|██████████| 451/451 [00:33<00:00, 13.49it/s]\n"
          ]
        },
        {
          "name": "stdout",
          "output_type": "stream",
          "text": [
            "Global Step:5000 Evaluation Result Loss:0.0087 acc:0.9980\n",
            "              precision    recall  f1-score   support\n",
            "\n",
            "           0       1.00      1.00      1.00     28620\n",
            "           1       0.85      0.91      0.88       232\n",
            "\n",
            "    accuracy                           1.00     28852\n",
            "   macro avg       0.92      0.96      0.94     28852\n",
            "weighted avg       1.00      1.00      1.00     28852\n",
            "\n",
            "[[28582    38]\n",
            " [   20   212]]\n"
          ]
        },
        {
          "name": "stderr",
          "output_type": "stream",
          "text": [
            "100%|██████████| 451/451 [00:33<00:00, 13.49it/s]\n"
          ]
        },
        {
          "name": "stdout",
          "output_type": "stream",
          "text": [
            "Global Step:6000 Evaluation Result Loss:0.0098 acc:0.9964\n",
            "              precision    recall  f1-score   support\n",
            "\n",
            "           0       1.00      1.00      1.00     28620\n",
            "           1       0.71      0.95      0.81       232\n",
            "\n",
            "    accuracy                           1.00     28852\n",
            "   macro avg       0.85      0.97      0.90     28852\n",
            "weighted avg       1.00      1.00      1.00     28852\n",
            "\n",
            "[[28529    91]\n",
            " [   12   220]]\n"
          ]
        },
        {
          "name": "stderr",
          "output_type": "stream",
          "text": [
            "100%|██████████| 451/451 [00:33<00:00, 13.58it/s]\n"
          ]
        },
        {
          "name": "stdout",
          "output_type": "stream",
          "text": [
            "Global Step:7000 Evaluation Result Loss:0.0061 acc:0.9990\n",
            "              precision    recall  f1-score   support\n",
            "\n",
            "           0       1.00      1.00      1.00     28620\n",
            "           1       1.00      0.88      0.94       232\n",
            "\n",
            "    accuracy                           1.00     28852\n",
            "   macro avg       1.00      0.94      0.97     28852\n",
            "weighted avg       1.00      1.00      1.00     28852\n",
            "\n",
            "[[28620     0]\n",
            " [   28   204]]\n"
          ]
        },
        {
          "name": "stderr",
          "output_type": "stream",
          "text": [
            "100%|██████████| 451/451 [00:33<00:00, 13.57it/s]\n"
          ]
        },
        {
          "name": "stdout",
          "output_type": "stream",
          "text": [
            "Global Step:8000 Evaluation Result Loss:0.0051 acc:0.9992\n",
            "              precision    recall  f1-score   support\n",
            "\n",
            "           0       1.00      1.00      1.00     28620\n",
            "           1       1.00      0.90      0.95       232\n",
            "\n",
            "    accuracy                           1.00     28852\n",
            "   macro avg       1.00      0.95      0.97     28852\n",
            "weighted avg       1.00      1.00      1.00     28852\n",
            "\n",
            "[[28619     1]\n",
            " [   23   209]]\n"
          ]
        },
        {
          "name": "stderr",
          "output_type": "stream",
          "text": [
            "100%|██████████| 451/451 [00:33<00:00, 13.63it/s]\n"
          ]
        },
        {
          "name": "stdout",
          "output_type": "stream",
          "text": [
            "Global Step:9000 Evaluation Result Loss:0.0036 acc:0.9991\n",
            "              precision    recall  f1-score   support\n",
            "\n",
            "           0       1.00      1.00      1.00     28620\n",
            "           1       0.97      0.92      0.94       232\n",
            "\n",
            "    accuracy                           1.00     28852\n",
            "   macro avg       0.98      0.96      0.97     28852\n",
            "weighted avg       1.00      1.00      1.00     28852\n",
            "\n",
            "[[28613     7]\n",
            " [   18   214]]\n"
          ]
        },
        {
          "name": "stderr",
          "output_type": "stream",
          "text": [
            "100%|██████████| 451/451 [00:33<00:00, 13.58it/s]"
          ]
        },
        {
          "name": "stdout",
          "output_type": "stream",
          "text": [
            "Global Step:10000 Evaluation Result Loss:0.0043 acc:0.9992\n",
            "              precision    recall  f1-score   support\n",
            "\n",
            "           0       1.00      1.00      1.00     28620\n",
            "           1       0.97      0.92      0.95       232\n",
            "\n",
            "    accuracy                           1.00     28852\n",
            "   macro avg       0.99      0.96      0.97     28852\n",
            "weighted avg       1.00      1.00      1.00     28852\n",
            "\n",
            "[[28614     6]\n",
            " [   18   214]]\n"
          ]
        },
        {
          "name": "stderr",
          "output_type": "stream",
          "text": [
            "\n"
          ]
        }
      ],
      "source": [
        "# Restore Checkpoint and Evaluate\n",
        "import glob\n",
        "import re\n",
        "\n",
        "torch.cuda.empty_cache() #  Reset cuda memory\n",
        "\n",
        "\n",
        "check_num = re.compile(\"checkpoint-\\d{1,10}\")\n",
        "checkpoints = glob.glob(weights_dir+\"/*\")\n",
        "checkpoints = sorted(checkpoints,key=lambda x:int(check_num.findall(x)[0].split(\"-\")[-1]))\n",
        "for checkpoint in checkpoints:\n",
        "    global_step = int(check_num.findall(checkpoint)[0].split(\"-\")[-1])\n",
        "    model = ElectraForSequenceClassification.from_pretrained(checkpoint)\n",
        "    model.to(device)\n",
        "    eval_losses = 0.0\n",
        "    true_label = []\n",
        "    pred = []\n",
        "    eval_step = 0\n",
        "    for batch in tqdm(test_dataloader):\n",
        "        model.eval() # evaluation mode\n",
        "        with torch.no_grad():\n",
        "            batch = tuple(t.to(device) for t in batch)\n",
        "            inputs = {\n",
        "                \"input_ids\": batch[0],\n",
        "                \"attention_mask\": batch[1],\n",
        "                \"token_type_ids\":batch[2],\n",
        "                \"labels\": batch[3]\n",
        "                }\n",
        "            outputs = model(**inputs)\n",
        "            eval_loss,eval_logits = outputs.loss,outputs.logits\n",
        "\n",
        "            eval_losses += eval_loss.mean().item()\n",
        "        eval_step += 1\n",
        "\n",
        "        pred.append(outputs.logits.detach().cpu().numpy()) # detach 는 logits의 텐서를 gradient 전파 없이 복사하는 방법\n",
        "        true_label.append(batch[3].detach().cpu().numpy())\n",
        "\n",
        "    eval_losses = eval_losses/eval_step\n",
        "\n",
        "    pred = np.argmax(np.concatenate(pred,axis=0),axis=1)\n",
        "    true_label = np.concatenate(true_label,axis=0)\n",
        "    eval_result = (pred==true_label).mean()\n",
        "    print(f\"Global Step:{global_step} Evaluation Result Loss:{eval_losses:.4f} acc:{eval_result:.4f}\")\n",
        "    print(classification_report(true_label, pred))\n",
        "    print(confusion_matrix(true_label, pred))"
      ]
    },
    {
      "cell_type": "markdown",
      "metadata": {
        "id": "-AjI89iDk4wh"
      },
      "source": [
        "ver1\n",
        "```\n",
        "100%|██████████| 230/230 [00:16<00:00, 13.58it/s]\n",
        "Global Step:1000 Evaluation Result Loss:0.0094 acc:0.9983\n",
        "              precision    recall  f1-score   support\n",
        "\n",
        "           0       1.00      1.00      1.00     14473\n",
        "           1       0.96      0.93      0.94       228\n",
        "\n",
        "    accuracy                           1.00     14701\n",
        "   macro avg       0.98      0.97      0.97     14701\n",
        "weighted avg       1.00      1.00      1.00     14701\n",
        "\n",
        "100%|██████████| 230/230 [00:16<00:00, 13.60it/s]\n",
        "Global Step:2000 Evaluation Result Loss:0.0085 acc:0.9976\n",
        "              precision    recall  f1-score   support\n",
        "\n",
        "           0       1.00      1.00      1.00     14508\n",
        "           1       0.85      0.98      0.91       193\n",
        "\n",
        "    accuracy                           1.00     14701\n",
        "   macro avg       0.93      0.99      0.96     14701\n",
        "weighted avg       1.00      1.00      1.00     14701\n",
        "\n",
        "100%|██████████| 230/230 [00:16<00:00, 13.60it/s]\n",
        "Global Step:3000 Evaluation Result Loss:0.0016 acc:0.9995\n",
        "              precision    recall  f1-score   support\n",
        "\n",
        "           0       1.00      1.00      1.00     14485\n",
        "           1       0.97      1.00      0.98       216\n",
        "\n",
        "    accuracy                           1.00     14701\n",
        "   macro avg       0.98      1.00      0.99     14701\n",
        "weighted avg       1.00      1.00      1.00     14701\n",
        "\n",
        "100%|██████████| 230/230 [00:16<00:00, 13.59it/s]\n",
        "Global Step:4000 Evaluation Result Loss:0.0015 acc:0.9998\n",
        "              precision    recall  f1-score   support\n",
        "\n",
        "           0       1.00      1.00      1.00     14477\n",
        "           1       1.00      0.99      0.99       224\n",
        "\n",
        "    accuracy                           1.00     14701\n",
        "   macro avg       1.00      1.00      1.00     14701\n",
        "weighted avg       1.00      1.00      1.00     14701\n",
        "\n",
        "100%|██████████| 230/230 [00:16<00:00, 13.65it/s]Global Step:5000 Evaluation Result Loss:0.0026 acc:0.9995\n",
        "              precision    recall  f1-score   support\n",
        "\n",
        "           0       1.00      1.00      1.00     14486\n",
        "           1       0.96      1.00      0.98       215\n",
        "\n",
        "    accuracy                           1.00     14701\n",
        "   macro avg       0.98      1.00      0.99     14701\n",
        "weighted avg       1.00      1.00      1.00     14701\n",
        "\n",
        "```\n",
        "\n"
      ]
    },
    {
      "cell_type": "markdown",
      "metadata": {
        "id": "D4q0Wq7yoqrl"
      },
      "source": [
        "ver1_check\n",
        "\n",
        "\n",
        "\n",
        "```\n",
        "100%|██████████| 35/35 [00:02<00:00, 14.85it/s]\n",
        "Global Step:1000 Evaluation Result Loss:0.6663 acc:0.7959\n",
        "              precision    recall  f1-score   support\n",
        "\n",
        "           0       0.78      0.99      0.87      1571\n",
        "           1       0.95      0.30      0.46       629\n",
        "\n",
        "    accuracy                           0.80      2200\n",
        "   macro avg       0.87      0.65      0.67      2200\n",
        "weighted avg       0.83      0.80      0.76      2200\n",
        "\n",
        "100%|██████████| 35/35 [00:02<00:00, 14.95it/s]\n",
        "Global Step:2000 Evaluation Result Loss:0.5159 acc:0.8773\n",
        "              precision    recall  f1-score   support\n",
        "\n",
        "           0       0.89      0.98      0.93      1814\n",
        "           1       0.79      0.41      0.54       386\n",
        "\n",
        "    accuracy                           0.88      2200\n",
        "   macro avg       0.84      0.69      0.73      2200\n",
        "weighted avg       0.87      0.88      0.86      2200\n",
        "\n",
        "100%|██████████| 35/35 [00:02<00:00, 14.34it/s]\n",
        "Global Step:3000 Evaluation Result Loss:1.0722 acc:0.7945\n",
        "              precision    recall  f1-score   support\n",
        "\n",
        "           0       0.78      0.99      0.87      1568\n",
        "           1       0.95      0.30      0.46       632\n",
        "\n",
        "    accuracy                           0.79      2200\n",
        "   macro avg       0.86      0.65      0.67      2200\n",
        "weighted avg       0.83      0.79      0.75      2200\n",
        "\n",
        "100%|██████████| 35/35 [00:02<00:00, 15.25it/s]\n",
        "Global Step:4000 Evaluation Result Loss:1.8594 acc:0.6732\n",
        "              precision    recall  f1-score   support\n",
        "\n",
        "           0       0.64      1.00      0.78      1289\n",
        "           1       0.98      0.22      0.35       911\n",
        "\n",
        "    accuracy                           0.67      2200\n",
        "   macro avg       0.81      0.61      0.57      2200\n",
        "weighted avg       0.78      0.67      0.60      2200\n",
        "\n",
        "100%|██████████| 35/35 [00:02<00:00, 15.17it/s]Global Step:5000 Evaluation Result Loss:1.3998 acc:0.7895\n",
        "              precision    recall  f1-score   support\n",
        "\n",
        "           0       0.77      0.99      0.87      1561\n",
        "           1       0.94      0.29      0.45       639\n",
        "\n",
        "    accuracy                           0.79      2200\n",
        "   macro avg       0.86      0.64      0.66      2200\n",
        "weighted avg       0.82      0.79      0.75      2200\n",
        "\n",
        "\n",
        "```\n",
        "\n"
      ]
    },
    {
      "cell_type": "markdown",
      "metadata": {
        "id": "rlIFjzJo4raF"
      },
      "source": [
        "ver2\n",
        "\n",
        "\n",
        "\n",
        "```\n",
        "100%|██████████| 225/225 [00:16<00:00, 13.62it/s]\n",
        "Global Step:1000 Evaluation Result Loss:0.0084 acc:0.9983\n",
        "              precision    recall  f1-score   support\n",
        "\n",
        "           0       1.00      1.00      1.00     14188\n",
        "           1       0.90      0.98      0.94       192\n",
        "\n",
        "    accuracy                           1.00     14380\n",
        "   macro avg       0.95      0.99      0.97     14380\n",
        "weighted avg       1.00      1.00      1.00     14380\n",
        "\n",
        "100%|██████████| 225/225 [00:16<00:00, 13.60it/s]\n",
        "Global Step:2000 Evaluation Result Loss:0.0075 acc:0.9984\n",
        "              precision    recall  f1-score   support\n",
        "\n",
        "           0       1.00      1.00      1.00     14178\n",
        "           1       0.93      0.96      0.94       202\n",
        "\n",
        "    accuracy                           1.00     14380\n",
        "   macro avg       0.96      0.98      0.97     14380\n",
        "weighted avg       1.00      1.00      1.00     14380\n",
        "\n",
        "100%|██████████| 225/225 [00:16<00:00, 13.61it/s]\n",
        "Global Step:3000 Evaluation Result Loss:0.0062 acc:0.9987\n",
        "              precision    recall  f1-score   support\n",
        "\n",
        "           0       1.00      1.00      1.00     14183\n",
        "           1       0.93      0.98      0.96       197\n",
        "\n",
        "    accuracy                           1.00     14380\n",
        "   macro avg       0.96      0.99      0.98     14380\n",
        "weighted avg       1.00      1.00      1.00     14380\n",
        "\n",
        "100%|██████████| 225/225 [00:16<00:00, 13.65it/s]\n",
        "Global Step:4000 Evaluation Result Loss:0.0080 acc:0.9987\n",
        "              precision    recall  f1-score   support\n",
        "\n",
        "           0       1.00      1.00      1.00     14182\n",
        "           1       0.93      0.98      0.95       198\n",
        "\n",
        "    accuracy                           1.00     14380\n",
        "   macro avg       0.96      0.99      0.98     14380\n",
        "weighted avg       1.00      1.00      1.00     14380\n",
        "\n",
        "100%|██████████| 225/225 [00:16<00:00, 13.59it/s]Global Step:5000 Evaluation Result Loss:0.0135 acc:0.9971\n",
        "              precision    recall  f1-score   support\n",
        "\n",
        "           0       1.00      1.00      1.00     14150\n",
        "           1       0.95      0.87      0.91       230\n",
        "\n",
        "    accuracy                           1.00     14380\n",
        "   macro avg       0.97      0.93      0.95     14380\n",
        "weighted avg       1.00      1.00      1.00     14380\n",
        "```\n",
        "\n"
      ]
    },
    {
      "cell_type": "markdown",
      "metadata": {
        "id": "2YUv79IC6ElY"
      },
      "source": [
        "ver2_check\n",
        "\n",
        "\n",
        "```\n",
        "100%|██████████| 35/35 [00:02<00:00, 13.97it/s]\n",
        "Global Step:1000 Evaluation Result Loss:0.1896 acc:0.9223\n",
        "              precision    recall  f1-score   support\n",
        "\n",
        "           0       0.93      0.99      0.96      1875\n",
        "           1       0.89      0.54      0.67       325\n",
        "\n",
        "    accuracy                           0.92      2200\n",
        "   macro avg       0.91      0.77      0.82      2200\n",
        "weighted avg       0.92      0.92      0.91      2200\n",
        "\n",
        "100%|██████████| 35/35 [00:02<00:00, 13.87it/s]\n",
        "Global Step:2000 Evaluation Result Loss:0.3855 acc:0.9118\n",
        "              precision    recall  f1-score   support\n",
        "\n",
        "           0       0.91      0.99      0.95      1836\n",
        "           1       0.93      0.51      0.66       364\n",
        "\n",
        "    accuracy                           0.91      2200\n",
        "   macro avg       0.92      0.75      0.80      2200\n",
        "weighted avg       0.91      0.91      0.90      2200\n",
        "\n",
        "100%|██████████| 35/35 [00:02<00:00, 14.61it/s]\n",
        "Global Step:3000 Evaluation Result Loss:0.2631 acc:0.9273\n",
        "              precision    recall  f1-score   support\n",
        "\n",
        "           0       0.93      0.99      0.96      1878\n",
        "           1       0.91      0.56      0.69       322\n",
        "\n",
        "    accuracy                           0.93      2200\n",
        "   macro avg       0.92      0.78      0.83      2200\n",
        "weighted avg       0.93      0.93      0.92      2200\n",
        "\n",
        "100%|██████████| 35/35 [00:02<00:00, 14.69it/s]\n",
        "Global Step:4000 Evaluation Result Loss:0.3276 acc:0.9232\n",
        "              precision    recall  f1-score   support\n",
        "\n",
        "           0       0.92      0.99      0.96      1859\n",
        "           1       0.93      0.55      0.69       341\n",
        "\n",
        "    accuracy                           0.92      2200\n",
        "   macro avg       0.93      0.77      0.82      2200\n",
        "weighted avg       0.92      0.92      0.91      2200\n",
        "\n",
        "100%|██████████| 35/35 [00:02<00:00, 15.28it/s]Global Step:5000 Evaluation Result Loss:0.5052 acc:0.8982\n",
        "              precision    recall  f1-score   support\n",
        "\n",
        "           0       0.89      0.99      0.94      1796\n",
        "           1       0.95      0.47      0.63       404\n",
        "\n",
        "    accuracy                           0.90      2200\n",
        "   macro avg       0.92      0.73      0.79      2200\n",
        "weighted avg       0.90      0.90      0.88      2200\n",
        "```\n",
        "\n"
      ]
    },
    {
      "cell_type": "markdown",
      "metadata": {
        "id": "-N8Wj4asCDOz"
      },
      "source": [
        "ver3\n",
        "\n",
        "\n",
        "```\n",
        "100%|██████████| 451/451 [00:33<00:00, 13.55it/s]\n",
        "Global Step:1000 Evaluation Result Loss:0.0147 acc:0.9968\n",
        "              precision    recall  f1-score   support\n",
        "\n",
        "           0       1.00      1.00      1.00     28697\n",
        "           1       0.63      0.95      0.76       155\n",
        "\n",
        "    accuracy                           1.00     28852\n",
        "   macro avg       0.82      0.97      0.88     28852\n",
        "weighted avg       1.00      1.00      1.00     28852\n",
        "\n",
        "100%|██████████| 451/451 [00:33<00:00, 13.51it/s]\n",
        "Global Step:2000 Evaluation Result Loss:0.0084 acc:0.9980\n",
        "              precision    recall  f1-score   support\n",
        "\n",
        "           0       1.00      1.00      1.00     28621\n",
        "           1       0.87      0.87      0.87       231\n",
        "\n",
        "    accuracy                           1.00     28852\n",
        "   macro avg       0.93      0.94      0.94     28852\n",
        "weighted avg       1.00      1.00      1.00     28852\n",
        "\n",
        "100%|██████████| 451/451 [00:33<00:00, 13.66it/s]\n",
        "Global Step:3000 Evaluation Result Loss:0.0075 acc:0.9984\n",
        "              precision    recall  f1-score   support\n",
        "\n",
        "           0       1.00      1.00      1.00     28636\n",
        "           1       0.87      0.93      0.90       216\n",
        "\n",
        "    accuracy                           1.00     28852\n",
        "   macro avg       0.93      0.96      0.95     28852\n",
        "weighted avg       1.00      1.00      1.00     28852\n",
        "\n",
        "100%|██████████| 451/451 [00:33<00:00, 13.56it/s]\n",
        "Global Step:4000 Evaluation Result Loss:0.0099 acc:0.9981\n",
        "              precision    recall  f1-score   support\n",
        "\n",
        "           0       1.00      1.00      1.00     28668\n",
        "           1       0.78      0.98      0.87       184\n",
        "\n",
        "    accuracy                           1.00     28852\n",
        "   macro avg       0.89      0.99      0.93     28852\n",
        "weighted avg       1.00      1.00      1.00     28852\n",
        "\n",
        "100%|██████████| 451/451 [00:33<00:00, 13.62it/s]\n",
        "Global Step:5000 Evaluation Result Loss:0.0087 acc:0.9984\n",
        "              precision    recall  f1-score   support\n",
        "\n",
        "           0       1.00      1.00      1.00     28638\n",
        "           1       0.86      0.93      0.90       214\n",
        "\n",
        "    accuracy                           1.00     28852\n",
        "   macro avg       0.93      0.97      0.95     28852\n",
        "weighted avg       1.00      1.00      1.00     28852\n",
        "\n",
        "100%|██████████| 451/451 [00:33<00:00, 13.64it/s]\n",
        "Global Step:6000 Evaluation Result Loss:0.0077 acc:0.9986\n",
        "              precision    recall  f1-score   support\n",
        "\n",
        "           0       1.00      1.00      1.00     28645\n",
        "           1       0.86      0.96      0.91       207\n",
        "\n",
        "    accuracy                           1.00     28852\n",
        "   macro avg       0.93      0.98      0.95     28852\n",
        "weighted avg       1.00      1.00      1.00     28852\n",
        "\n",
        "100%|██████████| 451/451 [00:33<00:00, 13.59it/s]\n",
        "Global Step:7000 Evaluation Result Loss:0.0056 acc:0.9989\n",
        "              precision    recall  f1-score   support\n",
        "\n",
        "           0       1.00      1.00      1.00     28637\n",
        "           1       0.90      0.97      0.93       215\n",
        "\n",
        "    accuracy                           1.00     28852\n",
        "   macro avg       0.95      0.98      0.97     28852\n",
        "weighted avg       1.00      1.00      1.00     28852\n",
        "\n",
        "100%|██████████| 451/451 [00:33<00:00, 13.55it/s]\n",
        "Global Step:8000 Evaluation Result Loss:0.0171 acc:0.9964\n",
        "              precision    recall  f1-score   support\n",
        "\n",
        "           0       1.00      1.00      1.00     28724\n",
        "           1       0.55      1.00      0.71       128\n",
        "\n",
        "    accuracy                           1.00     28852\n",
        "   macro avg       0.78      1.00      0.85     28852\n",
        "weighted avg       1.00      1.00      1.00     28852\n",
        "\n",
        "100%|██████████| 451/451 [00:33<00:00, 13.58it/s]\n",
        "Global Step:9000 Evaluation Result Loss:0.0065 acc:0.9986\n",
        "              precision    recall  f1-score   support\n",
        "\n",
        "           0       1.00      1.00      1.00     28622\n",
        "           1       0.91      0.92      0.91       230\n",
        "\n",
        "    accuracy                           1.00     28852\n",
        "   macro avg       0.95      0.96      0.96     28852\n",
        "weighted avg       1.00      1.00      1.00     28852\n",
        "\n",
        "100%|██████████| 451/451 [00:33<00:00, 13.66it/s]Global Step:10000 Evaluation Result Loss:0.0059 acc:0.9989\n",
        "              precision    recall  f1-score   support\n",
        "\n",
        "           0       1.00      1.00      1.00     28640\n",
        "           1       0.89      0.97      0.93       212\n",
        "\n",
        "    accuracy                           1.00     28852\n",
        "   macro avg       0.94      0.99      0.96     28852\n",
        "weighted avg       1.00      1.00      1.00     28852\n",
        "```\n",
        "\n"
      ]
    },
    {
      "cell_type": "markdown",
      "metadata": {},
      "source": [
        "- 성능 확인"
      ]
    },
    {
      "cell_type": "code",
      "execution_count": null,
      "metadata": {
        "id": "UhALhu2glASz"
      },
      "outputs": [],
      "source": [
        "df = pd.read_csv('./date/stt.csv')\n"
      ]
    },
    {
      "cell_type": "code",
      "execution_count": null,
      "metadata": {
        "colab": {
          "base_uri": "https://localhost:8080/",
          "height": 206
        },
        "id": "c36XR9gzSji2",
        "outputId": "ed246f14-fec6-42d7-a7bb-a561eb26b7db"
      },
      "outputs": [
        {
          "data": {
            "text/html": [
              "\n",
              "  <div id=\"df-03d3c906-9cd0-4706-941c-f4edd10ea40a\" class=\"colab-df-container\">\n",
              "    <div>\n",
              "<style scoped>\n",
              "    .dataframe tbody tr th:only-of-type {\n",
              "        vertical-align: middle;\n",
              "    }\n",
              "\n",
              "    .dataframe tbody tr th {\n",
              "        vertical-align: top;\n",
              "    }\n",
              "\n",
              "    .dataframe thead th {\n",
              "        text-align: right;\n",
              "    }\n",
              "</style>\n",
              "<table border=\"1\" class=\"dataframe\">\n",
              "  <thead>\n",
              "    <tr style=\"text-align: right;\">\n",
              "      <th></th>\n",
              "      <th>document</th>\n",
              "      <th>target</th>\n",
              "    </tr>\n",
              "  </thead>\n",
              "  <tbody>\n",
              "    <tr>\n",
              "      <th>0</th>\n",
              "      <td>네 여보세요. 여보세요. 은혁 씨 점심 드셨어요.</td>\n",
              "      <td>0</td>\n",
              "    </tr>\n",
              "    <tr>\n",
              "      <th>1</th>\n",
              "      <td>네 먹었어요. 어디서 드셨어요. 저기 밖에 월드컵 경기장으로 갔습니다.</td>\n",
              "      <td>1</td>\n",
              "    </tr>\n",
              "    <tr>\n",
              "      <th>2</th>\n",
              "      <td>저는 점심 조금 늦게 먹을 것 같아 가지고 먼저 들어가세요.</td>\n",
              "      <td>0</td>\n",
              "    </tr>\n",
              "    <tr>\n",
              "      <th>3</th>\n",
              "      <td>알겠습니다. 네 어쩔 수 없죠. 그럼 커피는 좀 드시나요. 네 그냥 아메리카노 사서...</td>\n",
              "      <td>1</td>\n",
              "    </tr>\n",
              "    <tr>\n",
              "      <th>4</th>\n",
              "      <td>알겠습니다.</td>\n",
              "      <td>0</td>\n",
              "    </tr>\n",
              "  </tbody>\n",
              "</table>\n",
              "</div>\n",
              "    <div class=\"colab-df-buttons\">\n",
              "\n",
              "  <div class=\"colab-df-container\">\n",
              "    <button class=\"colab-df-convert\" onclick=\"convertToInteractive('df-03d3c906-9cd0-4706-941c-f4edd10ea40a')\"\n",
              "            title=\"Convert this dataframe to an interactive table.\"\n",
              "            style=\"display:none;\">\n",
              "\n",
              "  <svg xmlns=\"http://www.w3.org/2000/svg\" height=\"24px\" viewBox=\"0 -960 960 960\">\n",
              "    <path d=\"M120-120v-720h720v720H120Zm60-500h600v-160H180v160Zm220 220h160v-160H400v160Zm0 220h160v-160H400v160ZM180-400h160v-160H180v160Zm440 0h160v-160H620v160ZM180-180h160v-160H180v160Zm440 0h160v-160H620v160Z\"/>\n",
              "  </svg>\n",
              "    </button>\n",
              "\n",
              "  <style>\n",
              "    .colab-df-container {\n",
              "      display:flex;\n",
              "      gap: 12px;\n",
              "    }\n",
              "\n",
              "    .colab-df-convert {\n",
              "      background-color: #E8F0FE;\n",
              "      border: none;\n",
              "      border-radius: 50%;\n",
              "      cursor: pointer;\n",
              "      display: none;\n",
              "      fill: #1967D2;\n",
              "      height: 32px;\n",
              "      padding: 0 0 0 0;\n",
              "      width: 32px;\n",
              "    }\n",
              "\n",
              "    .colab-df-convert:hover {\n",
              "      background-color: #E2EBFA;\n",
              "      box-shadow: 0px 1px 2px rgba(60, 64, 67, 0.3), 0px 1px 3px 1px rgba(60, 64, 67, 0.15);\n",
              "      fill: #174EA6;\n",
              "    }\n",
              "\n",
              "    .colab-df-buttons div {\n",
              "      margin-bottom: 4px;\n",
              "    }\n",
              "\n",
              "    [theme=dark] .colab-df-convert {\n",
              "      background-color: #3B4455;\n",
              "      fill: #D2E3FC;\n",
              "    }\n",
              "\n",
              "    [theme=dark] .colab-df-convert:hover {\n",
              "      background-color: #434B5C;\n",
              "      box-shadow: 0px 1px 3px 1px rgba(0, 0, 0, 0.15);\n",
              "      filter: drop-shadow(0px 1px 2px rgba(0, 0, 0, 0.3));\n",
              "      fill: #FFFFFF;\n",
              "    }\n",
              "  </style>\n",
              "\n",
              "    <script>\n",
              "      const buttonEl =\n",
              "        document.querySelector('#df-03d3c906-9cd0-4706-941c-f4edd10ea40a button.colab-df-convert');\n",
              "      buttonEl.style.display =\n",
              "        google.colab.kernel.accessAllowed ? 'block' : 'none';\n",
              "\n",
              "      async function convertToInteractive(key) {\n",
              "        const element = document.querySelector('#df-03d3c906-9cd0-4706-941c-f4edd10ea40a');\n",
              "        const dataTable =\n",
              "          await google.colab.kernel.invokeFunction('convertToInteractive',\n",
              "                                                    [key], {});\n",
              "        if (!dataTable) return;\n",
              "\n",
              "        const docLinkHtml = 'Like what you see? Visit the ' +\n",
              "          '<a target=\"_blank\" href=https://colab.research.google.com/notebooks/data_table.ipynb>data table notebook</a>'\n",
              "          + ' to learn more about interactive tables.';\n",
              "        element.innerHTML = '';\n",
              "        dataTable['output_type'] = 'display_data';\n",
              "        await google.colab.output.renderOutput(dataTable, element);\n",
              "        const docLink = document.createElement('div');\n",
              "        docLink.innerHTML = docLinkHtml;\n",
              "        element.appendChild(docLink);\n",
              "      }\n",
              "    </script>\n",
              "  </div>\n",
              "\n",
              "\n",
              "<div id=\"df-97a6f7c4-b617-4db1-94e5-4368fe1a52f1\">\n",
              "  <button class=\"colab-df-quickchart\" onclick=\"quickchart('df-97a6f7c4-b617-4db1-94e5-4368fe1a52f1')\"\n",
              "            title=\"Suggest charts.\"\n",
              "            style=\"display:none;\">\n",
              "\n",
              "<svg xmlns=\"http://www.w3.org/2000/svg\" height=\"24px\"viewBox=\"0 0 24 24\"\n",
              "     width=\"24px\">\n",
              "    <g>\n",
              "        <path d=\"M19 3H5c-1.1 0-2 .9-2 2v14c0 1.1.9 2 2 2h14c1.1 0 2-.9 2-2V5c0-1.1-.9-2-2-2zM9 17H7v-7h2v7zm4 0h-2V7h2v10zm4 0h-2v-4h2v4z\"/>\n",
              "    </g>\n",
              "</svg>\n",
              "  </button>\n",
              "\n",
              "<style>\n",
              "  .colab-df-quickchart {\n",
              "    background-color: #E8F0FE;\n",
              "    border: none;\n",
              "    border-radius: 50%;\n",
              "    cursor: pointer;\n",
              "    display: none;\n",
              "    fill: #1967D2;\n",
              "    height: 32px;\n",
              "    padding: 0 0 0 0;\n",
              "    width: 32px;\n",
              "  }\n",
              "\n",
              "  .colab-df-quickchart:hover {\n",
              "    background-color: #E2EBFA;\n",
              "    box-shadow: 0px 1px 2px rgba(60, 64, 67, 0.3), 0px 1px 3px 1px rgba(60, 64, 67, 0.15);\n",
              "    fill: #174EA6;\n",
              "  }\n",
              "\n",
              "  [theme=dark] .colab-df-quickchart {\n",
              "    background-color: #3B4455;\n",
              "    fill: #D2E3FC;\n",
              "  }\n",
              "\n",
              "  [theme=dark] .colab-df-quickchart:hover {\n",
              "    background-color: #434B5C;\n",
              "    box-shadow: 0px 1px 3px 1px rgba(0, 0, 0, 0.15);\n",
              "    filter: drop-shadow(0px 1px 2px rgba(0, 0, 0, 0.3));\n",
              "    fill: #FFFFFF;\n",
              "  }\n",
              "</style>\n",
              "\n",
              "  <script>\n",
              "    async function quickchart(key) {\n",
              "      const charts = await google.colab.kernel.invokeFunction(\n",
              "          'suggestCharts', [key], {});\n",
              "    }\n",
              "    (() => {\n",
              "      let quickchartButtonEl =\n",
              "        document.querySelector('#df-97a6f7c4-b617-4db1-94e5-4368fe1a52f1 button');\n",
              "      quickchartButtonEl.style.display =\n",
              "        google.colab.kernel.accessAllowed ? 'block' : 'none';\n",
              "    })();\n",
              "  </script>\n",
              "</div>\n",
              "    </div>\n",
              "  </div>\n"
            ],
            "text/plain": [
              "                                            document  target\n",
              "0                        네 여보세요. 여보세요. 은혁 씨 점심 드셨어요.       0\n",
              "1            네 먹었어요. 어디서 드셨어요. 저기 밖에 월드컵 경기장으로 갔습니다.       1\n",
              "2                  저는 점심 조금 늦게 먹을 것 같아 가지고 먼저 들어가세요.       0\n",
              "3  알겠습니다. 네 어쩔 수 없죠. 그럼 커피는 좀 드시나요. 네 그냥 아메리카노 사서...       1\n",
              "4                                             알겠습니다.       0"
            ]
          },
          "execution_count": 38,
          "metadata": {},
          "output_type": "execute_result"
        }
      ],
      "source": [
        "df"
      ]
    },
    {
      "cell_type": "markdown",
      "metadata": {
        "id": "gwEtCGKj3mmj"
      },
      "source": [
        "추론함수 구현"
      ]
    },
    {
      "cell_type": "code",
      "execution_count": null,
      "metadata": {
        "id": "JVLmosVt2XJV"
      },
      "outputs": [],
      "source": [
        "checkpoint = \"./weights/nsmc/checkpoint-7000\"\n",
        "model = ElectraForSequenceClassification.from_pretrained(checkpoint)"
      ]
    },
    {
      "cell_type": "code",
      "execution_count": null,
      "metadata": {
        "id": "aXBi9jah53Oq"
      },
      "outputs": [],
      "source": [
        "#학습 데이터셋 배치 데이터 인코딩\n",
        "sample = tokenizer.batch_encode_plus([\"안녕하세요? 고객님\"]\n",
        "                      ,max_length=max_length\n",
        "                      ,add_special_tokens=True\n",
        "                      ,truncation=True\n",
        "                      ,return_tensors=\"pt\"\n",
        "                      ,padding=\"max_length\")\n",
        "\n",
        "sample_ds = TensorDataset(sample.input_ids\n",
        "                         ,sample.attention_mask\n",
        "                        ,sample.token_type_ids)"
      ]
    },
    {
      "cell_type": "code",
      "execution_count": null,
      "metadata": {
        "id": "KoIRMkUq53eU"
      },
      "outputs": [],
      "source": [
        "sample_loader = DataLoader(sample_ds)"
      ]
    },
    {
      "cell_type": "code",
      "execution_count": null,
      "metadata": {
        "colab": {
          "base_uri": "https://localhost:8080/"
        },
        "id": "cwees8ga54Vs",
        "outputId": "3409a4bc-42fc-4e91-a9c8-79d9d8d4398d"
      },
      "outputs": [
        {
          "name": "stderr",
          "output_type": "stream",
          "text": [
            "100%|██████████| 1/1 [00:00<00:00, 21.96it/s]\n"
          ]
        }
      ],
      "source": [
        "model = ElectraForSequenceClassification.from_pretrained(checkpoint)\n",
        "model.to(device)\n",
        "pred = []\n",
        "for batch in tqdm(sample_loader):\n",
        "    model.eval() # evaluation mode\n",
        "    with torch.no_grad():\n",
        "        batch = tuple(t.to(device) for t in batch)\n",
        "        inputs = {\n",
        "            \"input_ids\": batch[0],\n",
        "            \"attention_mask\": batch[1],\n",
        "            \"token_type_ids\":batch[2]\n",
        "            }\n",
        "        outputs = model(**inputs)\n",
        "        eval_logits = outputs.logits\n",
        "\n",
        "    pred.append(outputs.logits.detach().cpu().numpy())\n",
        "\n",
        "pred = np.argmax(np.concatenate(pred,axis=0),axis=1)"
      ]
    },
    {
      "cell_type": "code",
      "execution_count": null,
      "metadata": {
        "colab": {
          "base_uri": "https://localhost:8080/"
        },
        "id": "_1S0AFsI55FD",
        "outputId": "38b52adc-2049-4140-b93d-9e3545274680"
      },
      "outputs": [
        {
          "data": {
            "text/plain": [
              "array([0])"
            ]
          },
          "execution_count": 43,
          "metadata": {},
          "output_type": "execute_result"
        }
      ],
      "source": [
        "pred"
      ]
    },
    {
      "cell_type": "code",
      "execution_count": null,
      "metadata": {
        "id": "XcjyEfKE6CnM"
      },
      "outputs": [],
      "source": [
        "def ELEC_Classifier(input_point, text):\n",
        "  checkpoint = input_point\n",
        "  model = ElectraForSequenceClassification.from_pretrained(checkpoint)\n",
        "  #학습 데이터셋 배치 데이터 인코딩\n",
        "  sample = tokenizer.batch_encode_plus([text]\n",
        "                        ,max_length=max_length\n",
        "                        ,add_special_tokens=True\n",
        "                        ,truncation=True\n",
        "                        ,return_tensors=\"pt\"\n",
        "                        ,padding=\"max_length\")\n",
        "\n",
        "  sample_ds = TensorDataset(sample.input_ids\n",
        "                          ,sample.attention_mask\n",
        "                          ,sample.token_type_ids)\n",
        "\n",
        "  sample_loader = DataLoader(sample_ds)\n",
        "  model = ElectraForSequenceClassification.from_pretrained(checkpoint)\n",
        "  model.to(device)\n",
        "  pred = []\n",
        "  for batch in tqdm(sample_loader):\n",
        "      model.eval() # evaluation mode\n",
        "      with torch.no_grad():\n",
        "          batch = tuple(t.to(device) for t in batch)\n",
        "          inputs = {\n",
        "              \"input_ids\": batch[0],\n",
        "              \"attention_mask\": batch[1],\n",
        "              \"token_type_ids\":batch[2]\n",
        "              }\n",
        "          outputs = model(**inputs)\n",
        "          eval_logits = outputs.logits\n",
        "\n",
        "      pred.append(outputs.logits.detach().cpu().numpy())\n",
        "\n",
        "  pred = np.argmax(np.concatenate(pred,axis=0),axis=1)\n",
        "  print(\" \")\n",
        "  if pred == 1:\n",
        "    print(\" 보이스피싱입니다.\")\n",
        "  elif pred == 0:\n",
        "    print(\" 일반통화입니다.\")\n",
        "  else:\n",
        "    print(\"?\")"
      ]
    },
    {
      "cell_type": "code",
      "execution_count": null,
      "metadata": {
        "colab": {
          "base_uri": "https://localhost:8080/"
        },
        "id": "JZXGoy0F6EI0",
        "outputId": "21012cd0-6222-4724-92ec-0e697292e977"
      },
      "outputs": [
        {
          "name": "stdout",
          "output_type": "stream",
          "text": [
            "알겠습니다. 네 어쩔 수 없죠. 그럼 커피는 좀 드시나요. 네 그냥 아메리카노 사서\n"
          ]
        },
        {
          "name": "stderr",
          "output_type": "stream",
          "text": [
            "100%|██████████| 1/1 [00:00<00:00, 41.38it/s]"
          ]
        },
        {
          "name": "stdout",
          "output_type": "stream",
          "text": [
            " \n",
            " 일반통화입니다.\n"
          ]
        },
        {
          "name": "stderr",
          "output_type": "stream",
          "text": [
            "\n"
          ]
        }
      ],
      "source": [
        "ELEC_Classifier(\"/content/weights/nsmc/checkpoint-7000\",\n",
        "                text=input())"
      ]
    },
    {
      "cell_type": "code",
      "execution_count": null,
      "metadata": {
        "id": "99aLRdnW7ANk"
      },
      "outputs": [],
      "source": []
    }
  ],
  "metadata": {
    "accelerator": "GPU",
    "colab": {
      "gpuType": "T4",
      "provenance": []
    },
    "kernelspec": {
      "display_name": "WEB_AI",
      "language": "python",
      "name": "python3"
    },
    "language_info": {
      "name": "python",
      "version": "3.8.20"
    },
    "widgets": {
      "application/vnd.jupyter.widget-state+json": {
        "097ba77f97e44b29bb14673c5fc01e28": {
          "model_module": "@jupyter-widgets/base",
          "model_module_version": "1.2.0",
          "model_name": "LayoutModel",
          "state": {
            "_model_module": "@jupyter-widgets/base",
            "_model_module_version": "1.2.0",
            "_model_name": "LayoutModel",
            "_view_count": null,
            "_view_module": "@jupyter-widgets/base",
            "_view_module_version": "1.2.0",
            "_view_name": "LayoutView",
            "align_content": null,
            "align_items": null,
            "align_self": null,
            "border": null,
            "bottom": null,
            "display": null,
            "flex": null,
            "flex_flow": null,
            "grid_area": null,
            "grid_auto_columns": null,
            "grid_auto_flow": null,
            "grid_auto_rows": null,
            "grid_column": null,
            "grid_gap": null,
            "grid_row": null,
            "grid_template_areas": null,
            "grid_template_columns": null,
            "grid_template_rows": null,
            "height": null,
            "justify_content": null,
            "justify_items": null,
            "left": null,
            "margin": null,
            "max_height": null,
            "max_width": null,
            "min_height": null,
            "min_width": null,
            "object_fit": null,
            "object_position": null,
            "order": null,
            "overflow": null,
            "overflow_x": null,
            "overflow_y": null,
            "padding": null,
            "right": null,
            "top": null,
            "visibility": null,
            "width": null
          }
        },
        "1a0ce74838084c66988fe2a4673e386b": {
          "model_module": "@jupyter-widgets/base",
          "model_module_version": "1.2.0",
          "model_name": "LayoutModel",
          "state": {
            "_model_module": "@jupyter-widgets/base",
            "_model_module_version": "1.2.0",
            "_model_name": "LayoutModel",
            "_view_count": null,
            "_view_module": "@jupyter-widgets/base",
            "_view_module_version": "1.2.0",
            "_view_name": "LayoutView",
            "align_content": null,
            "align_items": null,
            "align_self": null,
            "border": null,
            "bottom": null,
            "display": null,
            "flex": null,
            "flex_flow": null,
            "grid_area": null,
            "grid_auto_columns": null,
            "grid_auto_flow": null,
            "grid_auto_rows": null,
            "grid_column": null,
            "grid_gap": null,
            "grid_row": null,
            "grid_template_areas": null,
            "grid_template_columns": null,
            "grid_template_rows": null,
            "height": null,
            "justify_content": null,
            "justify_items": null,
            "left": null,
            "margin": null,
            "max_height": null,
            "max_width": null,
            "min_height": null,
            "min_width": null,
            "object_fit": null,
            "object_position": null,
            "order": null,
            "overflow": null,
            "overflow_x": null,
            "overflow_y": null,
            "padding": null,
            "right": null,
            "top": null,
            "visibility": null,
            "width": null
          }
        },
        "290d9ed03f0042be81799ca48cc80a06": {
          "model_module": "@jupyter-widgets/base",
          "model_module_version": "1.2.0",
          "model_name": "LayoutModel",
          "state": {
            "_model_module": "@jupyter-widgets/base",
            "_model_module_version": "1.2.0",
            "_model_name": "LayoutModel",
            "_view_count": null,
            "_view_module": "@jupyter-widgets/base",
            "_view_module_version": "1.2.0",
            "_view_name": "LayoutView",
            "align_content": null,
            "align_items": null,
            "align_self": null,
            "border": null,
            "bottom": null,
            "display": null,
            "flex": null,
            "flex_flow": null,
            "grid_area": null,
            "grid_auto_columns": null,
            "grid_auto_flow": null,
            "grid_auto_rows": null,
            "grid_column": null,
            "grid_gap": null,
            "grid_row": null,
            "grid_template_areas": null,
            "grid_template_columns": null,
            "grid_template_rows": null,
            "height": null,
            "justify_content": null,
            "justify_items": null,
            "left": null,
            "margin": null,
            "max_height": null,
            "max_width": null,
            "min_height": null,
            "min_width": null,
            "object_fit": null,
            "object_position": null,
            "order": null,
            "overflow": null,
            "overflow_x": null,
            "overflow_y": null,
            "padding": null,
            "right": null,
            "top": null,
            "visibility": null,
            "width": null
          }
        },
        "2a28d02955e449b5a17600d12b0cb7e3": {
          "model_module": "@jupyter-widgets/controls",
          "model_module_version": "1.5.0",
          "model_name": "FloatProgressModel",
          "state": {
            "_dom_classes": [],
            "_model_module": "@jupyter-widgets/controls",
            "_model_module_version": "1.5.0",
            "_model_name": "FloatProgressModel",
            "_view_count": null,
            "_view_module": "@jupyter-widgets/controls",
            "_view_module_version": "1.5.0",
            "_view_name": "ProgressView",
            "bar_style": "success",
            "description": "",
            "description_tooltip": null,
            "layout": "IPY_MODEL_ff0405b4e5dd4dc189be4d8ebd6b6ba2",
            "max": 56577499,
            "min": 0,
            "orientation": "horizontal",
            "style": "IPY_MODEL_85cb17e48dd049c08e882163279f030a",
            "value": 56577499
          }
        },
        "2bb141d4ebb54247b00e8fe12c0ccd6f": {
          "model_module": "@jupyter-widgets/base",
          "model_module_version": "1.2.0",
          "model_name": "LayoutModel",
          "state": {
            "_model_module": "@jupyter-widgets/base",
            "_model_module_version": "1.2.0",
            "_model_name": "LayoutModel",
            "_view_count": null,
            "_view_module": "@jupyter-widgets/base",
            "_view_module_version": "1.2.0",
            "_view_name": "LayoutView",
            "align_content": null,
            "align_items": null,
            "align_self": null,
            "border": null,
            "bottom": null,
            "display": null,
            "flex": null,
            "flex_flow": null,
            "grid_area": null,
            "grid_auto_columns": null,
            "grid_auto_flow": null,
            "grid_auto_rows": null,
            "grid_column": null,
            "grid_gap": null,
            "grid_row": null,
            "grid_template_areas": null,
            "grid_template_columns": null,
            "grid_template_rows": null,
            "height": null,
            "justify_content": null,
            "justify_items": null,
            "left": null,
            "margin": null,
            "max_height": null,
            "max_width": null,
            "min_height": null,
            "min_width": null,
            "object_fit": null,
            "object_position": null,
            "order": null,
            "overflow": null,
            "overflow_x": null,
            "overflow_y": null,
            "padding": null,
            "right": null,
            "top": null,
            "visibility": null,
            "width": null
          }
        },
        "3519926724c048c9970ba1f2ad189e53": {
          "model_module": "@jupyter-widgets/controls",
          "model_module_version": "1.5.0",
          "model_name": "HTMLModel",
          "state": {
            "_dom_classes": [],
            "_model_module": "@jupyter-widgets/controls",
            "_model_module_version": "1.5.0",
            "_model_name": "HTMLModel",
            "_view_count": null,
            "_view_module": "@jupyter-widgets/controls",
            "_view_module_version": "1.5.0",
            "_view_name": "HTMLView",
            "description": "",
            "description_tooltip": null,
            "layout": "IPY_MODEL_ae2678de4ea54c10a8cb04a9a128ad57",
            "placeholder": "​",
            "style": "IPY_MODEL_4db350def50e4aeab0c999260f74ed25",
            "value": "Downloading pytorch_model.bin: 100%"
          }
        },
        "361de8626c154aa28eb0c0ff601cd4f5": {
          "model_module": "@jupyter-widgets/controls",
          "model_module_version": "1.5.0",
          "model_name": "FloatProgressModel",
          "state": {
            "_dom_classes": [],
            "_model_module": "@jupyter-widgets/controls",
            "_model_module_version": "1.5.0",
            "_model_name": "FloatProgressModel",
            "_view_count": null,
            "_view_module": "@jupyter-widgets/controls",
            "_view_module_version": "1.5.0",
            "_view_name": "ProgressView",
            "bar_style": "success",
            "description": "",
            "description_tooltip": null,
            "layout": "IPY_MODEL_89fd4b92922b4fb0b7f79305a3348d57",
            "max": 458,
            "min": 0,
            "orientation": "horizontal",
            "style": "IPY_MODEL_c66c407232de4a92b4dc53476935829e",
            "value": 458
          }
        },
        "440401b90bb64b2d956d3747d07251a0": {
          "model_module": "@jupyter-widgets/controls",
          "model_module_version": "1.5.0",
          "model_name": "HTMLModel",
          "state": {
            "_dom_classes": [],
            "_model_module": "@jupyter-widgets/controls",
            "_model_module_version": "1.5.0",
            "_model_name": "HTMLModel",
            "_view_count": null,
            "_view_module": "@jupyter-widgets/controls",
            "_view_module_version": "1.5.0",
            "_view_name": "HTMLView",
            "description": "",
            "description_tooltip": null,
            "layout": "IPY_MODEL_290d9ed03f0042be81799ca48cc80a06",
            "placeholder": "​",
            "style": "IPY_MODEL_47a2041b3dd34d79bd38e2ef61c992f5",
            "value": "Downloading (…)lve/main/config.json: 100%"
          }
        },
        "47a2041b3dd34d79bd38e2ef61c992f5": {
          "model_module": "@jupyter-widgets/controls",
          "model_module_version": "1.5.0",
          "model_name": "DescriptionStyleModel",
          "state": {
            "_model_module": "@jupyter-widgets/controls",
            "_model_module_version": "1.5.0",
            "_model_name": "DescriptionStyleModel",
            "_view_count": null,
            "_view_module": "@jupyter-widgets/base",
            "_view_module_version": "1.2.0",
            "_view_name": "StyleView",
            "description_width": ""
          }
        },
        "47c7035b700a4fda85b1f2fcf237ce50": {
          "model_module": "@jupyter-widgets/base",
          "model_module_version": "1.2.0",
          "model_name": "LayoutModel",
          "state": {
            "_model_module": "@jupyter-widgets/base",
            "_model_module_version": "1.2.0",
            "_model_name": "LayoutModel",
            "_view_count": null,
            "_view_module": "@jupyter-widgets/base",
            "_view_module_version": "1.2.0",
            "_view_name": "LayoutView",
            "align_content": null,
            "align_items": null,
            "align_self": null,
            "border": null,
            "bottom": null,
            "display": null,
            "flex": null,
            "flex_flow": null,
            "grid_area": null,
            "grid_auto_columns": null,
            "grid_auto_flow": null,
            "grid_auto_rows": null,
            "grid_column": null,
            "grid_gap": null,
            "grid_row": null,
            "grid_template_areas": null,
            "grid_template_columns": null,
            "grid_template_rows": null,
            "height": null,
            "justify_content": null,
            "justify_items": null,
            "left": null,
            "margin": null,
            "max_height": null,
            "max_width": null,
            "min_height": null,
            "min_width": null,
            "object_fit": null,
            "object_position": null,
            "order": null,
            "overflow": null,
            "overflow_x": null,
            "overflow_y": null,
            "padding": null,
            "right": null,
            "top": null,
            "visibility": null,
            "width": null
          }
        },
        "4bcf297d359942aaa74a5aa5a6512382": {
          "model_module": "@jupyter-widgets/controls",
          "model_module_version": "1.5.0",
          "model_name": "HTMLModel",
          "state": {
            "_dom_classes": [],
            "_model_module": "@jupyter-widgets/controls",
            "_model_module_version": "1.5.0",
            "_model_name": "HTMLModel",
            "_view_count": null,
            "_view_module": "@jupyter-widgets/controls",
            "_view_module_version": "1.5.0",
            "_view_name": "HTMLView",
            "description": "",
            "description_tooltip": null,
            "layout": "IPY_MODEL_ac227b2eaa2145e5b1f4b4f7ccd464f7",
            "placeholder": "​",
            "style": "IPY_MODEL_e03d484ea6f34cc9b0c17ba1026ca6f3",
            "value": "Downloading (…)solve/main/vocab.txt: 100%"
          }
        },
        "4bdd0a4b9e484e40b623efdb342feed4": {
          "model_module": "@jupyter-widgets/controls",
          "model_module_version": "1.5.0",
          "model_name": "HTMLModel",
          "state": {
            "_dom_classes": [],
            "_model_module": "@jupyter-widgets/controls",
            "_model_module_version": "1.5.0",
            "_model_name": "HTMLModel",
            "_view_count": null,
            "_view_module": "@jupyter-widgets/controls",
            "_view_module_version": "1.5.0",
            "_view_name": "HTMLView",
            "description": "",
            "description_tooltip": null,
            "layout": "IPY_MODEL_b687ca01c1e54d72825ef6ecd31f54a8",
            "placeholder": "​",
            "style": "IPY_MODEL_56ecd9bf8d4c40bc994b5ae7500a4051",
            "value": " 263k/263k [00:00&lt;00:00, 7.21MB/s]"
          }
        },
        "4db350def50e4aeab0c999260f74ed25": {
          "model_module": "@jupyter-widgets/controls",
          "model_module_version": "1.5.0",
          "model_name": "DescriptionStyleModel",
          "state": {
            "_model_module": "@jupyter-widgets/controls",
            "_model_module_version": "1.5.0",
            "_model_name": "DescriptionStyleModel",
            "_view_count": null,
            "_view_module": "@jupyter-widgets/base",
            "_view_module_version": "1.2.0",
            "_view_name": "StyleView",
            "description_width": ""
          }
        },
        "4e8ae6ebbc714ed2b8d2d5b93b92026f": {
          "model_module": "@jupyter-widgets/controls",
          "model_module_version": "1.5.0",
          "model_name": "FloatProgressModel",
          "state": {
            "_dom_classes": [],
            "_model_module": "@jupyter-widgets/controls",
            "_model_module_version": "1.5.0",
            "_model_name": "FloatProgressModel",
            "_view_count": null,
            "_view_module": "@jupyter-widgets/controls",
            "_view_module_version": "1.5.0",
            "_view_name": "ProgressView",
            "bar_style": "success",
            "description": "",
            "description_tooltip": null,
            "layout": "IPY_MODEL_47c7035b700a4fda85b1f2fcf237ce50",
            "max": 61,
            "min": 0,
            "orientation": "horizontal",
            "style": "IPY_MODEL_e13d4d43d6fe40e184de09cb0a088e6c",
            "value": 61
          }
        },
        "50bd4942a82643b4a077c7a5dec13b31": {
          "model_module": "@jupyter-widgets/base",
          "model_module_version": "1.2.0",
          "model_name": "LayoutModel",
          "state": {
            "_model_module": "@jupyter-widgets/base",
            "_model_module_version": "1.2.0",
            "_model_name": "LayoutModel",
            "_view_count": null,
            "_view_module": "@jupyter-widgets/base",
            "_view_module_version": "1.2.0",
            "_view_name": "LayoutView",
            "align_content": null,
            "align_items": null,
            "align_self": null,
            "border": null,
            "bottom": null,
            "display": null,
            "flex": null,
            "flex_flow": null,
            "grid_area": null,
            "grid_auto_columns": null,
            "grid_auto_flow": null,
            "grid_auto_rows": null,
            "grid_column": null,
            "grid_gap": null,
            "grid_row": null,
            "grid_template_areas": null,
            "grid_template_columns": null,
            "grid_template_rows": null,
            "height": null,
            "justify_content": null,
            "justify_items": null,
            "left": null,
            "margin": null,
            "max_height": null,
            "max_width": null,
            "min_height": null,
            "min_width": null,
            "object_fit": null,
            "object_position": null,
            "order": null,
            "overflow": null,
            "overflow_x": null,
            "overflow_y": null,
            "padding": null,
            "right": null,
            "top": null,
            "visibility": null,
            "width": null
          }
        },
        "52daf692861b43f98fbe166345a80b5b": {
          "model_module": "@jupyter-widgets/controls",
          "model_module_version": "1.5.0",
          "model_name": "DescriptionStyleModel",
          "state": {
            "_model_module": "@jupyter-widgets/controls",
            "_model_module_version": "1.5.0",
            "_model_name": "DescriptionStyleModel",
            "_view_count": null,
            "_view_module": "@jupyter-widgets/base",
            "_view_module_version": "1.2.0",
            "_view_name": "StyleView",
            "description_width": ""
          }
        },
        "56ecd9bf8d4c40bc994b5ae7500a4051": {
          "model_module": "@jupyter-widgets/controls",
          "model_module_version": "1.5.0",
          "model_name": "DescriptionStyleModel",
          "state": {
            "_model_module": "@jupyter-widgets/controls",
            "_model_module_version": "1.5.0",
            "_model_name": "DescriptionStyleModel",
            "_view_count": null,
            "_view_module": "@jupyter-widgets/base",
            "_view_module_version": "1.2.0",
            "_view_name": "StyleView",
            "description_width": ""
          }
        },
        "6086d4e751274ce288d8228df26e07a0": {
          "model_module": "@jupyter-widgets/controls",
          "model_module_version": "1.5.0",
          "model_name": "HBoxModel",
          "state": {
            "_dom_classes": [],
            "_model_module": "@jupyter-widgets/controls",
            "_model_module_version": "1.5.0",
            "_model_name": "HBoxModel",
            "_view_count": null,
            "_view_module": "@jupyter-widgets/controls",
            "_view_module_version": "1.5.0",
            "_view_name": "HBoxView",
            "box_style": "",
            "children": [
              "IPY_MODEL_64bb0faed34b4b4e94ca8689c788238f",
              "IPY_MODEL_4e8ae6ebbc714ed2b8d2d5b93b92026f",
              "IPY_MODEL_d842a5cc870245568d398e522186e1c0"
            ],
            "layout": "IPY_MODEL_097ba77f97e44b29bb14673c5fc01e28"
          }
        },
        "6366d345dcc240f089a2579e3fa62a7c": {
          "model_module": "@jupyter-widgets/controls",
          "model_module_version": "1.5.0",
          "model_name": "HTMLModel",
          "state": {
            "_dom_classes": [],
            "_model_module": "@jupyter-widgets/controls",
            "_model_module_version": "1.5.0",
            "_model_name": "HTMLModel",
            "_view_count": null,
            "_view_module": "@jupyter-widgets/controls",
            "_view_module_version": "1.5.0",
            "_view_name": "HTMLView",
            "description": "",
            "description_tooltip": null,
            "layout": "IPY_MODEL_1a0ce74838084c66988fe2a4673e386b",
            "placeholder": "​",
            "style": "IPY_MODEL_d1e1ca1a6df6484088561f6029b20db5",
            "value": " 56.6M/56.6M [00:00&lt;00:00, 262MB/s]"
          }
        },
        "64bb0faed34b4b4e94ca8689c788238f": {
          "model_module": "@jupyter-widgets/controls",
          "model_module_version": "1.5.0",
          "model_name": "HTMLModel",
          "state": {
            "_dom_classes": [],
            "_model_module": "@jupyter-widgets/controls",
            "_model_module_version": "1.5.0",
            "_model_name": "HTMLModel",
            "_view_count": null,
            "_view_module": "@jupyter-widgets/controls",
            "_view_module_version": "1.5.0",
            "_view_name": "HTMLView",
            "description": "",
            "description_tooltip": null,
            "layout": "IPY_MODEL_dcb98e5d939345b9bf8781906275e389",
            "placeholder": "​",
            "style": "IPY_MODEL_7d6910209f534f1f97f5b6ce7612fc32",
            "value": "Downloading (…)okenizer_config.json: 100%"
          }
        },
        "70f9ebb23afc4f4f9dbdee463b6df71c": {
          "model_module": "@jupyter-widgets/controls",
          "model_module_version": "1.5.0",
          "model_name": "HBoxModel",
          "state": {
            "_dom_classes": [],
            "_model_module": "@jupyter-widgets/controls",
            "_model_module_version": "1.5.0",
            "_model_name": "HBoxModel",
            "_view_count": null,
            "_view_module": "@jupyter-widgets/controls",
            "_view_module_version": "1.5.0",
            "_view_name": "HBoxView",
            "box_style": "",
            "children": [
              "IPY_MODEL_440401b90bb64b2d956d3747d07251a0",
              "IPY_MODEL_361de8626c154aa28eb0c0ff601cd4f5",
              "IPY_MODEL_72c6f953a6fa47ab83b64a7096a09de7"
            ],
            "layout": "IPY_MODEL_50bd4942a82643b4a077c7a5dec13b31"
          }
        },
        "72c6f953a6fa47ab83b64a7096a09de7": {
          "model_module": "@jupyter-widgets/controls",
          "model_module_version": "1.5.0",
          "model_name": "HTMLModel",
          "state": {
            "_dom_classes": [],
            "_model_module": "@jupyter-widgets/controls",
            "_model_module_version": "1.5.0",
            "_model_name": "HTMLModel",
            "_view_count": null,
            "_view_module": "@jupyter-widgets/controls",
            "_view_module_version": "1.5.0",
            "_view_name": "HTMLView",
            "description": "",
            "description_tooltip": null,
            "layout": "IPY_MODEL_f7db0cb0221f4a6fa0eeb81fbba3a012",
            "placeholder": "​",
            "style": "IPY_MODEL_ca2df0d7a6ef4a118a9e16f732d805af",
            "value": " 458/458 [00:00&lt;00:00, 16.2kB/s]"
          }
        },
        "7d6910209f534f1f97f5b6ce7612fc32": {
          "model_module": "@jupyter-widgets/controls",
          "model_module_version": "1.5.0",
          "model_name": "DescriptionStyleModel",
          "state": {
            "_model_module": "@jupyter-widgets/controls",
            "_model_module_version": "1.5.0",
            "_model_name": "DescriptionStyleModel",
            "_view_count": null,
            "_view_module": "@jupyter-widgets/base",
            "_view_module_version": "1.2.0",
            "_view_name": "StyleView",
            "description_width": ""
          }
        },
        "84c0a87dc6e14aacb0bba8efbb1b672b": {
          "model_module": "@jupyter-widgets/controls",
          "model_module_version": "1.5.0",
          "model_name": "HBoxModel",
          "state": {
            "_dom_classes": [],
            "_model_module": "@jupyter-widgets/controls",
            "_model_module_version": "1.5.0",
            "_model_name": "HBoxModel",
            "_view_count": null,
            "_view_module": "@jupyter-widgets/controls",
            "_view_module_version": "1.5.0",
            "_view_name": "HBoxView",
            "box_style": "",
            "children": [
              "IPY_MODEL_3519926724c048c9970ba1f2ad189e53",
              "IPY_MODEL_2a28d02955e449b5a17600d12b0cb7e3",
              "IPY_MODEL_6366d345dcc240f089a2579e3fa62a7c"
            ],
            "layout": "IPY_MODEL_8e18aa4ec39e4374bd059fcb8b5ba98c"
          }
        },
        "85cb17e48dd049c08e882163279f030a": {
          "model_module": "@jupyter-widgets/controls",
          "model_module_version": "1.5.0",
          "model_name": "ProgressStyleModel",
          "state": {
            "_model_module": "@jupyter-widgets/controls",
            "_model_module_version": "1.5.0",
            "_model_name": "ProgressStyleModel",
            "_view_count": null,
            "_view_module": "@jupyter-widgets/base",
            "_view_module_version": "1.2.0",
            "_view_name": "StyleView",
            "bar_color": null,
            "description_width": ""
          }
        },
        "85e9e9f7393a404cba99349c82190849": {
          "model_module": "@jupyter-widgets/controls",
          "model_module_version": "1.5.0",
          "model_name": "ProgressStyleModel",
          "state": {
            "_model_module": "@jupyter-widgets/controls",
            "_model_module_version": "1.5.0",
            "_model_name": "ProgressStyleModel",
            "_view_count": null,
            "_view_module": "@jupyter-widgets/base",
            "_view_module_version": "1.2.0",
            "_view_name": "StyleView",
            "bar_color": null,
            "description_width": ""
          }
        },
        "89fd4b92922b4fb0b7f79305a3348d57": {
          "model_module": "@jupyter-widgets/base",
          "model_module_version": "1.2.0",
          "model_name": "LayoutModel",
          "state": {
            "_model_module": "@jupyter-widgets/base",
            "_model_module_version": "1.2.0",
            "_model_name": "LayoutModel",
            "_view_count": null,
            "_view_module": "@jupyter-widgets/base",
            "_view_module_version": "1.2.0",
            "_view_name": "LayoutView",
            "align_content": null,
            "align_items": null,
            "align_self": null,
            "border": null,
            "bottom": null,
            "display": null,
            "flex": null,
            "flex_flow": null,
            "grid_area": null,
            "grid_auto_columns": null,
            "grid_auto_flow": null,
            "grid_auto_rows": null,
            "grid_column": null,
            "grid_gap": null,
            "grid_row": null,
            "grid_template_areas": null,
            "grid_template_columns": null,
            "grid_template_rows": null,
            "height": null,
            "justify_content": null,
            "justify_items": null,
            "left": null,
            "margin": null,
            "max_height": null,
            "max_width": null,
            "min_height": null,
            "min_width": null,
            "object_fit": null,
            "object_position": null,
            "order": null,
            "overflow": null,
            "overflow_x": null,
            "overflow_y": null,
            "padding": null,
            "right": null,
            "top": null,
            "visibility": null,
            "width": null
          }
        },
        "8e18aa4ec39e4374bd059fcb8b5ba98c": {
          "model_module": "@jupyter-widgets/base",
          "model_module_version": "1.2.0",
          "model_name": "LayoutModel",
          "state": {
            "_model_module": "@jupyter-widgets/base",
            "_model_module_version": "1.2.0",
            "_model_name": "LayoutModel",
            "_view_count": null,
            "_view_module": "@jupyter-widgets/base",
            "_view_module_version": "1.2.0",
            "_view_name": "LayoutView",
            "align_content": null,
            "align_items": null,
            "align_self": null,
            "border": null,
            "bottom": null,
            "display": null,
            "flex": null,
            "flex_flow": null,
            "grid_area": null,
            "grid_auto_columns": null,
            "grid_auto_flow": null,
            "grid_auto_rows": null,
            "grid_column": null,
            "grid_gap": null,
            "grid_row": null,
            "grid_template_areas": null,
            "grid_template_columns": null,
            "grid_template_rows": null,
            "height": null,
            "justify_content": null,
            "justify_items": null,
            "left": null,
            "margin": null,
            "max_height": null,
            "max_width": null,
            "min_height": null,
            "min_width": null,
            "object_fit": null,
            "object_position": null,
            "order": null,
            "overflow": null,
            "overflow_x": null,
            "overflow_y": null,
            "padding": null,
            "right": null,
            "top": null,
            "visibility": null,
            "width": null
          }
        },
        "a5e1193232c340e6ae7c2445783e9709": {
          "model_module": "@jupyter-widgets/controls",
          "model_module_version": "1.5.0",
          "model_name": "FloatProgressModel",
          "state": {
            "_dom_classes": [],
            "_model_module": "@jupyter-widgets/controls",
            "_model_module_version": "1.5.0",
            "_model_name": "FloatProgressModel",
            "_view_count": null,
            "_view_module": "@jupyter-widgets/controls",
            "_view_module_version": "1.5.0",
            "_view_name": "ProgressView",
            "bar_style": "success",
            "description": "",
            "description_tooltip": null,
            "layout": "IPY_MODEL_db30ba736bcc44d6b7a5e727b5d3f647",
            "max": 263326,
            "min": 0,
            "orientation": "horizontal",
            "style": "IPY_MODEL_85e9e9f7393a404cba99349c82190849",
            "value": 263326
          }
        },
        "aaed3976391842f9b0521f362a0835e0": {
          "model_module": "@jupyter-widgets/controls",
          "model_module_version": "1.5.0",
          "model_name": "HBoxModel",
          "state": {
            "_dom_classes": [],
            "_model_module": "@jupyter-widgets/controls",
            "_model_module_version": "1.5.0",
            "_model_name": "HBoxModel",
            "_view_count": null,
            "_view_module": "@jupyter-widgets/controls",
            "_view_module_version": "1.5.0",
            "_view_name": "HBoxView",
            "box_style": "",
            "children": [
              "IPY_MODEL_4bcf297d359942aaa74a5aa5a6512382",
              "IPY_MODEL_a5e1193232c340e6ae7c2445783e9709",
              "IPY_MODEL_4bdd0a4b9e484e40b623efdb342feed4"
            ],
            "layout": "IPY_MODEL_2bb141d4ebb54247b00e8fe12c0ccd6f"
          }
        },
        "ac227b2eaa2145e5b1f4b4f7ccd464f7": {
          "model_module": "@jupyter-widgets/base",
          "model_module_version": "1.2.0",
          "model_name": "LayoutModel",
          "state": {
            "_model_module": "@jupyter-widgets/base",
            "_model_module_version": "1.2.0",
            "_model_name": "LayoutModel",
            "_view_count": null,
            "_view_module": "@jupyter-widgets/base",
            "_view_module_version": "1.2.0",
            "_view_name": "LayoutView",
            "align_content": null,
            "align_items": null,
            "align_self": null,
            "border": null,
            "bottom": null,
            "display": null,
            "flex": null,
            "flex_flow": null,
            "grid_area": null,
            "grid_auto_columns": null,
            "grid_auto_flow": null,
            "grid_auto_rows": null,
            "grid_column": null,
            "grid_gap": null,
            "grid_row": null,
            "grid_template_areas": null,
            "grid_template_columns": null,
            "grid_template_rows": null,
            "height": null,
            "justify_content": null,
            "justify_items": null,
            "left": null,
            "margin": null,
            "max_height": null,
            "max_width": null,
            "min_height": null,
            "min_width": null,
            "object_fit": null,
            "object_position": null,
            "order": null,
            "overflow": null,
            "overflow_x": null,
            "overflow_y": null,
            "padding": null,
            "right": null,
            "top": null,
            "visibility": null,
            "width": null
          }
        },
        "ae2678de4ea54c10a8cb04a9a128ad57": {
          "model_module": "@jupyter-widgets/base",
          "model_module_version": "1.2.0",
          "model_name": "LayoutModel",
          "state": {
            "_model_module": "@jupyter-widgets/base",
            "_model_module_version": "1.2.0",
            "_model_name": "LayoutModel",
            "_view_count": null,
            "_view_module": "@jupyter-widgets/base",
            "_view_module_version": "1.2.0",
            "_view_name": "LayoutView",
            "align_content": null,
            "align_items": null,
            "align_self": null,
            "border": null,
            "bottom": null,
            "display": null,
            "flex": null,
            "flex_flow": null,
            "grid_area": null,
            "grid_auto_columns": null,
            "grid_auto_flow": null,
            "grid_auto_rows": null,
            "grid_column": null,
            "grid_gap": null,
            "grid_row": null,
            "grid_template_areas": null,
            "grid_template_columns": null,
            "grid_template_rows": null,
            "height": null,
            "justify_content": null,
            "justify_items": null,
            "left": null,
            "margin": null,
            "max_height": null,
            "max_width": null,
            "min_height": null,
            "min_width": null,
            "object_fit": null,
            "object_position": null,
            "order": null,
            "overflow": null,
            "overflow_x": null,
            "overflow_y": null,
            "padding": null,
            "right": null,
            "top": null,
            "visibility": null,
            "width": null
          }
        },
        "b280e9d62ebf428a9e77c003177658be": {
          "model_module": "@jupyter-widgets/base",
          "model_module_version": "1.2.0",
          "model_name": "LayoutModel",
          "state": {
            "_model_module": "@jupyter-widgets/base",
            "_model_module_version": "1.2.0",
            "_model_name": "LayoutModel",
            "_view_count": null,
            "_view_module": "@jupyter-widgets/base",
            "_view_module_version": "1.2.0",
            "_view_name": "LayoutView",
            "align_content": null,
            "align_items": null,
            "align_self": null,
            "border": null,
            "bottom": null,
            "display": null,
            "flex": null,
            "flex_flow": null,
            "grid_area": null,
            "grid_auto_columns": null,
            "grid_auto_flow": null,
            "grid_auto_rows": null,
            "grid_column": null,
            "grid_gap": null,
            "grid_row": null,
            "grid_template_areas": null,
            "grid_template_columns": null,
            "grid_template_rows": null,
            "height": null,
            "justify_content": null,
            "justify_items": null,
            "left": null,
            "margin": null,
            "max_height": null,
            "max_width": null,
            "min_height": null,
            "min_width": null,
            "object_fit": null,
            "object_position": null,
            "order": null,
            "overflow": null,
            "overflow_x": null,
            "overflow_y": null,
            "padding": null,
            "right": null,
            "top": null,
            "visibility": null,
            "width": null
          }
        },
        "b687ca01c1e54d72825ef6ecd31f54a8": {
          "model_module": "@jupyter-widgets/base",
          "model_module_version": "1.2.0",
          "model_name": "LayoutModel",
          "state": {
            "_model_module": "@jupyter-widgets/base",
            "_model_module_version": "1.2.0",
            "_model_name": "LayoutModel",
            "_view_count": null,
            "_view_module": "@jupyter-widgets/base",
            "_view_module_version": "1.2.0",
            "_view_name": "LayoutView",
            "align_content": null,
            "align_items": null,
            "align_self": null,
            "border": null,
            "bottom": null,
            "display": null,
            "flex": null,
            "flex_flow": null,
            "grid_area": null,
            "grid_auto_columns": null,
            "grid_auto_flow": null,
            "grid_auto_rows": null,
            "grid_column": null,
            "grid_gap": null,
            "grid_row": null,
            "grid_template_areas": null,
            "grid_template_columns": null,
            "grid_template_rows": null,
            "height": null,
            "justify_content": null,
            "justify_items": null,
            "left": null,
            "margin": null,
            "max_height": null,
            "max_width": null,
            "min_height": null,
            "min_width": null,
            "object_fit": null,
            "object_position": null,
            "order": null,
            "overflow": null,
            "overflow_x": null,
            "overflow_y": null,
            "padding": null,
            "right": null,
            "top": null,
            "visibility": null,
            "width": null
          }
        },
        "c66c407232de4a92b4dc53476935829e": {
          "model_module": "@jupyter-widgets/controls",
          "model_module_version": "1.5.0",
          "model_name": "ProgressStyleModel",
          "state": {
            "_model_module": "@jupyter-widgets/controls",
            "_model_module_version": "1.5.0",
            "_model_name": "ProgressStyleModel",
            "_view_count": null,
            "_view_module": "@jupyter-widgets/base",
            "_view_module_version": "1.2.0",
            "_view_name": "StyleView",
            "bar_color": null,
            "description_width": ""
          }
        },
        "ca2df0d7a6ef4a118a9e16f732d805af": {
          "model_module": "@jupyter-widgets/controls",
          "model_module_version": "1.5.0",
          "model_name": "DescriptionStyleModel",
          "state": {
            "_model_module": "@jupyter-widgets/controls",
            "_model_module_version": "1.5.0",
            "_model_name": "DescriptionStyleModel",
            "_view_count": null,
            "_view_module": "@jupyter-widgets/base",
            "_view_module_version": "1.2.0",
            "_view_name": "StyleView",
            "description_width": ""
          }
        },
        "d1e1ca1a6df6484088561f6029b20db5": {
          "model_module": "@jupyter-widgets/controls",
          "model_module_version": "1.5.0",
          "model_name": "DescriptionStyleModel",
          "state": {
            "_model_module": "@jupyter-widgets/controls",
            "_model_module_version": "1.5.0",
            "_model_name": "DescriptionStyleModel",
            "_view_count": null,
            "_view_module": "@jupyter-widgets/base",
            "_view_module_version": "1.2.0",
            "_view_name": "StyleView",
            "description_width": ""
          }
        },
        "d842a5cc870245568d398e522186e1c0": {
          "model_module": "@jupyter-widgets/controls",
          "model_module_version": "1.5.0",
          "model_name": "HTMLModel",
          "state": {
            "_dom_classes": [],
            "_model_module": "@jupyter-widgets/controls",
            "_model_module_version": "1.5.0",
            "_model_name": "HTMLModel",
            "_view_count": null,
            "_view_module": "@jupyter-widgets/controls",
            "_view_module_version": "1.5.0",
            "_view_name": "HTMLView",
            "description": "",
            "description_tooltip": null,
            "layout": "IPY_MODEL_b280e9d62ebf428a9e77c003177658be",
            "placeholder": "​",
            "style": "IPY_MODEL_52daf692861b43f98fbe166345a80b5b",
            "value": " 61.0/61.0 [00:00&lt;00:00, 1.38kB/s]"
          }
        },
        "db30ba736bcc44d6b7a5e727b5d3f647": {
          "model_module": "@jupyter-widgets/base",
          "model_module_version": "1.2.0",
          "model_name": "LayoutModel",
          "state": {
            "_model_module": "@jupyter-widgets/base",
            "_model_module_version": "1.2.0",
            "_model_name": "LayoutModel",
            "_view_count": null,
            "_view_module": "@jupyter-widgets/base",
            "_view_module_version": "1.2.0",
            "_view_name": "LayoutView",
            "align_content": null,
            "align_items": null,
            "align_self": null,
            "border": null,
            "bottom": null,
            "display": null,
            "flex": null,
            "flex_flow": null,
            "grid_area": null,
            "grid_auto_columns": null,
            "grid_auto_flow": null,
            "grid_auto_rows": null,
            "grid_column": null,
            "grid_gap": null,
            "grid_row": null,
            "grid_template_areas": null,
            "grid_template_columns": null,
            "grid_template_rows": null,
            "height": null,
            "justify_content": null,
            "justify_items": null,
            "left": null,
            "margin": null,
            "max_height": null,
            "max_width": null,
            "min_height": null,
            "min_width": null,
            "object_fit": null,
            "object_position": null,
            "order": null,
            "overflow": null,
            "overflow_x": null,
            "overflow_y": null,
            "padding": null,
            "right": null,
            "top": null,
            "visibility": null,
            "width": null
          }
        },
        "dcb98e5d939345b9bf8781906275e389": {
          "model_module": "@jupyter-widgets/base",
          "model_module_version": "1.2.0",
          "model_name": "LayoutModel",
          "state": {
            "_model_module": "@jupyter-widgets/base",
            "_model_module_version": "1.2.0",
            "_model_name": "LayoutModel",
            "_view_count": null,
            "_view_module": "@jupyter-widgets/base",
            "_view_module_version": "1.2.0",
            "_view_name": "LayoutView",
            "align_content": null,
            "align_items": null,
            "align_self": null,
            "border": null,
            "bottom": null,
            "display": null,
            "flex": null,
            "flex_flow": null,
            "grid_area": null,
            "grid_auto_columns": null,
            "grid_auto_flow": null,
            "grid_auto_rows": null,
            "grid_column": null,
            "grid_gap": null,
            "grid_row": null,
            "grid_template_areas": null,
            "grid_template_columns": null,
            "grid_template_rows": null,
            "height": null,
            "justify_content": null,
            "justify_items": null,
            "left": null,
            "margin": null,
            "max_height": null,
            "max_width": null,
            "min_height": null,
            "min_width": null,
            "object_fit": null,
            "object_position": null,
            "order": null,
            "overflow": null,
            "overflow_x": null,
            "overflow_y": null,
            "padding": null,
            "right": null,
            "top": null,
            "visibility": null,
            "width": null
          }
        },
        "e03d484ea6f34cc9b0c17ba1026ca6f3": {
          "model_module": "@jupyter-widgets/controls",
          "model_module_version": "1.5.0",
          "model_name": "DescriptionStyleModel",
          "state": {
            "_model_module": "@jupyter-widgets/controls",
            "_model_module_version": "1.5.0",
            "_model_name": "DescriptionStyleModel",
            "_view_count": null,
            "_view_module": "@jupyter-widgets/base",
            "_view_module_version": "1.2.0",
            "_view_name": "StyleView",
            "description_width": ""
          }
        },
        "e13d4d43d6fe40e184de09cb0a088e6c": {
          "model_module": "@jupyter-widgets/controls",
          "model_module_version": "1.5.0",
          "model_name": "ProgressStyleModel",
          "state": {
            "_model_module": "@jupyter-widgets/controls",
            "_model_module_version": "1.5.0",
            "_model_name": "ProgressStyleModel",
            "_view_count": null,
            "_view_module": "@jupyter-widgets/base",
            "_view_module_version": "1.2.0",
            "_view_name": "StyleView",
            "bar_color": null,
            "description_width": ""
          }
        },
        "f7db0cb0221f4a6fa0eeb81fbba3a012": {
          "model_module": "@jupyter-widgets/base",
          "model_module_version": "1.2.0",
          "model_name": "LayoutModel",
          "state": {
            "_model_module": "@jupyter-widgets/base",
            "_model_module_version": "1.2.0",
            "_model_name": "LayoutModel",
            "_view_count": null,
            "_view_module": "@jupyter-widgets/base",
            "_view_module_version": "1.2.0",
            "_view_name": "LayoutView",
            "align_content": null,
            "align_items": null,
            "align_self": null,
            "border": null,
            "bottom": null,
            "display": null,
            "flex": null,
            "flex_flow": null,
            "grid_area": null,
            "grid_auto_columns": null,
            "grid_auto_flow": null,
            "grid_auto_rows": null,
            "grid_column": null,
            "grid_gap": null,
            "grid_row": null,
            "grid_template_areas": null,
            "grid_template_columns": null,
            "grid_template_rows": null,
            "height": null,
            "justify_content": null,
            "justify_items": null,
            "left": null,
            "margin": null,
            "max_height": null,
            "max_width": null,
            "min_height": null,
            "min_width": null,
            "object_fit": null,
            "object_position": null,
            "order": null,
            "overflow": null,
            "overflow_x": null,
            "overflow_y": null,
            "padding": null,
            "right": null,
            "top": null,
            "visibility": null,
            "width": null
          }
        },
        "ff0405b4e5dd4dc189be4d8ebd6b6ba2": {
          "model_module": "@jupyter-widgets/base",
          "model_module_version": "1.2.0",
          "model_name": "LayoutModel",
          "state": {
            "_model_module": "@jupyter-widgets/base",
            "_model_module_version": "1.2.0",
            "_model_name": "LayoutModel",
            "_view_count": null,
            "_view_module": "@jupyter-widgets/base",
            "_view_module_version": "1.2.0",
            "_view_name": "LayoutView",
            "align_content": null,
            "align_items": null,
            "align_self": null,
            "border": null,
            "bottom": null,
            "display": null,
            "flex": null,
            "flex_flow": null,
            "grid_area": null,
            "grid_auto_columns": null,
            "grid_auto_flow": null,
            "grid_auto_rows": null,
            "grid_column": null,
            "grid_gap": null,
            "grid_row": null,
            "grid_template_areas": null,
            "grid_template_columns": null,
            "grid_template_rows": null,
            "height": null,
            "justify_content": null,
            "justify_items": null,
            "left": null,
            "margin": null,
            "max_height": null,
            "max_width": null,
            "min_height": null,
            "min_width": null,
            "object_fit": null,
            "object_position": null,
            "order": null,
            "overflow": null,
            "overflow_x": null,
            "overflow_y": null,
            "padding": null,
            "right": null,
            "top": null,
            "visibility": null,
            "width": null
          }
        }
      }
    }
  },
  "nbformat": 4,
  "nbformat_minor": 0
}
